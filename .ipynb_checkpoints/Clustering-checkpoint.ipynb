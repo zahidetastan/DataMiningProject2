{
 "cells": [
  {
   "cell_type": "code",
   "execution_count": 170,
   "metadata": {},
   "outputs": [],
   "source": [
    "import pandas as pd\n",
    "from matplotlib import pyplot\n",
    "import numpy as np\n",
    "from sklearn.preprocessing import StandardScaler\n",
    "from sklearn.cluster import KMeans\n",
    "import matplotlib.pyplot as plt\n"
   ]
  },
  {
   "cell_type": "code",
   "execution_count": 171,
   "metadata": {},
   "outputs": [],
   "source": [
    "df = pd.read_csv(\"Sales_Transactions_Dataset_Weekly.csv\")"
   ]
  },
  {
   "cell_type": "code",
   "execution_count": 172,
   "metadata": {},
   "outputs": [
    {
     "data": {
      "text/html": [
       "<div>\n",
       "<style scoped>\n",
       "    .dataframe tbody tr th:only-of-type {\n",
       "        vertical-align: middle;\n",
       "    }\n",
       "\n",
       "    .dataframe tbody tr th {\n",
       "        vertical-align: top;\n",
       "    }\n",
       "\n",
       "    .dataframe thead th {\n",
       "        text-align: right;\n",
       "    }\n",
       "</style>\n",
       "<table border=\"1\" class=\"dataframe\">\n",
       "  <thead>\n",
       "    <tr style=\"text-align: right;\">\n",
       "      <th></th>\n",
       "      <th>W0</th>\n",
       "      <th>W1</th>\n",
       "      <th>W2</th>\n",
       "      <th>W3</th>\n",
       "      <th>W4</th>\n",
       "      <th>W5</th>\n",
       "      <th>W6</th>\n",
       "      <th>W7</th>\n",
       "      <th>W8</th>\n",
       "      <th>W9</th>\n",
       "      <th>...</th>\n",
       "      <th>W42</th>\n",
       "      <th>W43</th>\n",
       "      <th>W44</th>\n",
       "      <th>W45</th>\n",
       "      <th>W46</th>\n",
       "      <th>W47</th>\n",
       "      <th>W48</th>\n",
       "      <th>W49</th>\n",
       "      <th>W50</th>\n",
       "      <th>W51</th>\n",
       "    </tr>\n",
       "  </thead>\n",
       "  <tbody>\n",
       "    <tr>\n",
       "      <th>0</th>\n",
       "      <td>11</td>\n",
       "      <td>12</td>\n",
       "      <td>10</td>\n",
       "      <td>8</td>\n",
       "      <td>13</td>\n",
       "      <td>12</td>\n",
       "      <td>14</td>\n",
       "      <td>21</td>\n",
       "      <td>6</td>\n",
       "      <td>14</td>\n",
       "      <td>...</td>\n",
       "      <td>4</td>\n",
       "      <td>7</td>\n",
       "      <td>8</td>\n",
       "      <td>10</td>\n",
       "      <td>12</td>\n",
       "      <td>3</td>\n",
       "      <td>7</td>\n",
       "      <td>6</td>\n",
       "      <td>5</td>\n",
       "      <td>10</td>\n",
       "    </tr>\n",
       "    <tr>\n",
       "      <th>1</th>\n",
       "      <td>7</td>\n",
       "      <td>6</td>\n",
       "      <td>3</td>\n",
       "      <td>2</td>\n",
       "      <td>7</td>\n",
       "      <td>1</td>\n",
       "      <td>6</td>\n",
       "      <td>3</td>\n",
       "      <td>3</td>\n",
       "      <td>3</td>\n",
       "      <td>...</td>\n",
       "      <td>2</td>\n",
       "      <td>4</td>\n",
       "      <td>5</td>\n",
       "      <td>1</td>\n",
       "      <td>1</td>\n",
       "      <td>4</td>\n",
       "      <td>5</td>\n",
       "      <td>1</td>\n",
       "      <td>6</td>\n",
       "      <td>0</td>\n",
       "    </tr>\n",
       "    <tr>\n",
       "      <th>2</th>\n",
       "      <td>7</td>\n",
       "      <td>11</td>\n",
       "      <td>8</td>\n",
       "      <td>9</td>\n",
       "      <td>10</td>\n",
       "      <td>8</td>\n",
       "      <td>7</td>\n",
       "      <td>13</td>\n",
       "      <td>12</td>\n",
       "      <td>6</td>\n",
       "      <td>...</td>\n",
       "      <td>6</td>\n",
       "      <td>14</td>\n",
       "      <td>5</td>\n",
       "      <td>5</td>\n",
       "      <td>7</td>\n",
       "      <td>8</td>\n",
       "      <td>14</td>\n",
       "      <td>8</td>\n",
       "      <td>8</td>\n",
       "      <td>7</td>\n",
       "    </tr>\n",
       "    <tr>\n",
       "      <th>3</th>\n",
       "      <td>12</td>\n",
       "      <td>8</td>\n",
       "      <td>13</td>\n",
       "      <td>5</td>\n",
       "      <td>9</td>\n",
       "      <td>6</td>\n",
       "      <td>9</td>\n",
       "      <td>13</td>\n",
       "      <td>13</td>\n",
       "      <td>11</td>\n",
       "      <td>...</td>\n",
       "      <td>9</td>\n",
       "      <td>10</td>\n",
       "      <td>3</td>\n",
       "      <td>4</td>\n",
       "      <td>6</td>\n",
       "      <td>8</td>\n",
       "      <td>14</td>\n",
       "      <td>8</td>\n",
       "      <td>7</td>\n",
       "      <td>8</td>\n",
       "    </tr>\n",
       "    <tr>\n",
       "      <th>4</th>\n",
       "      <td>8</td>\n",
       "      <td>5</td>\n",
       "      <td>13</td>\n",
       "      <td>11</td>\n",
       "      <td>6</td>\n",
       "      <td>7</td>\n",
       "      <td>9</td>\n",
       "      <td>14</td>\n",
       "      <td>9</td>\n",
       "      <td>9</td>\n",
       "      <td>...</td>\n",
       "      <td>7</td>\n",
       "      <td>11</td>\n",
       "      <td>7</td>\n",
       "      <td>12</td>\n",
       "      <td>6</td>\n",
       "      <td>6</td>\n",
       "      <td>5</td>\n",
       "      <td>11</td>\n",
       "      <td>8</td>\n",
       "      <td>9</td>\n",
       "    </tr>\n",
       "  </tbody>\n",
       "</table>\n",
       "<p>5 rows × 52 columns</p>\n",
       "</div>"
      ],
      "text/plain": [
       "   W0  W1  W2  W3  W4  W5  W6  W7  W8  W9  ...  W42  W43  W44  W45  W46  W47  \\\n",
       "0  11  12  10   8  13  12  14  21   6  14  ...    4    7    8   10   12    3   \n",
       "1   7   6   3   2   7   1   6   3   3   3  ...    2    4    5    1    1    4   \n",
       "2   7  11   8   9  10   8   7  13  12   6  ...    6   14    5    5    7    8   \n",
       "3  12   8  13   5   9   6   9  13  13  11  ...    9   10    3    4    6    8   \n",
       "4   8   5  13  11   6   7   9  14   9   9  ...    7   11    7   12    6    6   \n",
       "\n",
       "   W48  W49  W50  W51  \n",
       "0    7    6    5   10  \n",
       "1    5    1    6    0  \n",
       "2   14    8    8    7  \n",
       "3   14    8    7    8  \n",
       "4    5   11    8    9  \n",
       "\n",
       "[5 rows x 52 columns]"
      ]
     },
     "execution_count": 172,
     "metadata": {},
     "output_type": "execute_result"
    }
   ],
   "source": [
    "X = df.iloc[:, 1:53]\n",
    "X.head()"
   ]
  },
  {
   "cell_type": "code",
   "execution_count": 139,
   "metadata": {},
   "outputs": [],
   "source": [
    "scaler = StandardScaler()\n",
    "scaled_X = pd.DataFrame(scaler.fit_transform(X))\n",
    "scaled_X.columns = X.columns"
   ]
  },
  {
   "cell_type": "code",
   "execution_count": 140,
   "metadata": {
    "scrolled": true
   },
   "outputs": [
    {
     "data": {
      "text/html": [
       "<div>\n",
       "<style scoped>\n",
       "    .dataframe tbody tr th:only-of-type {\n",
       "        vertical-align: middle;\n",
       "    }\n",
       "\n",
       "    .dataframe tbody tr th {\n",
       "        vertical-align: top;\n",
       "    }\n",
       "\n",
       "    .dataframe thead th {\n",
       "        text-align: right;\n",
       "    }\n",
       "</style>\n",
       "<table border=\"1\" class=\"dataframe\">\n",
       "  <thead>\n",
       "    <tr style=\"text-align: right;\">\n",
       "      <th></th>\n",
       "      <th>W0</th>\n",
       "      <th>W1</th>\n",
       "      <th>W2</th>\n",
       "      <th>W3</th>\n",
       "      <th>W4</th>\n",
       "      <th>W5</th>\n",
       "      <th>W6</th>\n",
       "      <th>W7</th>\n",
       "      <th>W8</th>\n",
       "      <th>W9</th>\n",
       "      <th>...</th>\n",
       "      <th>W42</th>\n",
       "      <th>W43</th>\n",
       "      <th>W44</th>\n",
       "      <th>W45</th>\n",
       "      <th>W46</th>\n",
       "      <th>W47</th>\n",
       "      <th>W48</th>\n",
       "      <th>W49</th>\n",
       "      <th>W50</th>\n",
       "      <th>W51</th>\n",
       "    </tr>\n",
       "  </thead>\n",
       "  <tbody>\n",
       "    <tr>\n",
       "      <th>0</th>\n",
       "      <td>0.173919</td>\n",
       "      <td>0.228600</td>\n",
       "      <td>0.046817</td>\n",
       "      <td>-0.126810</td>\n",
       "      <td>0.261727</td>\n",
       "      <td>0.197725</td>\n",
       "      <td>0.320853</td>\n",
       "      <td>0.875257</td>\n",
       "      <td>-0.279445</td>\n",
       "      <td>0.328879</td>\n",
       "      <td>...</td>\n",
       "      <td>-0.387468</td>\n",
       "      <td>-0.117234</td>\n",
       "      <td>-0.038696</td>\n",
       "      <td>0.126936</td>\n",
       "      <td>0.282397</td>\n",
       "      <td>-0.496182</td>\n",
       "      <td>-0.149293</td>\n",
       "      <td>-0.264773</td>\n",
       "      <td>-0.368283</td>\n",
       "      <td>0.116307</td>\n",
       "    </tr>\n",
       "    <tr>\n",
       "      <th>1</th>\n",
       "      <td>-0.157764</td>\n",
       "      <td>-0.249221</td>\n",
       "      <td>-0.490115</td>\n",
       "      <td>-0.569780</td>\n",
       "      <td>-0.196719</td>\n",
       "      <td>-0.660624</td>\n",
       "      <td>-0.278886</td>\n",
       "      <td>-0.504996</td>\n",
       "      <td>-0.500980</td>\n",
       "      <td>-0.508909</td>\n",
       "      <td>...</td>\n",
       "      <td>-0.563807</td>\n",
       "      <td>-0.384055</td>\n",
       "      <td>-0.306157</td>\n",
       "      <td>-0.664272</td>\n",
       "      <td>-0.664694</td>\n",
       "      <td>-0.408684</td>\n",
       "      <td>-0.327608</td>\n",
       "      <td>-0.722036</td>\n",
       "      <td>-0.272919</td>\n",
       "      <td>-0.930582</td>\n",
       "    </tr>\n",
       "    <tr>\n",
       "      <th>2</th>\n",
       "      <td>-0.157764</td>\n",
       "      <td>0.148963</td>\n",
       "      <td>-0.106592</td>\n",
       "      <td>-0.052982</td>\n",
       "      <td>0.032504</td>\n",
       "      <td>-0.114402</td>\n",
       "      <td>-0.203919</td>\n",
       "      <td>0.261811</td>\n",
       "      <td>0.163624</td>\n",
       "      <td>-0.280421</td>\n",
       "      <td>...</td>\n",
       "      <td>-0.211129</td>\n",
       "      <td>0.505347</td>\n",
       "      <td>-0.306157</td>\n",
       "      <td>-0.312624</td>\n",
       "      <td>-0.148099</td>\n",
       "      <td>-0.058692</td>\n",
       "      <td>0.474812</td>\n",
       "      <td>-0.081868</td>\n",
       "      <td>-0.082193</td>\n",
       "      <td>-0.197760</td>\n",
       "    </tr>\n",
       "    <tr>\n",
       "      <th>3</th>\n",
       "      <td>0.256839</td>\n",
       "      <td>-0.089947</td>\n",
       "      <td>0.276931</td>\n",
       "      <td>-0.348295</td>\n",
       "      <td>-0.043904</td>\n",
       "      <td>-0.270465</td>\n",
       "      <td>-0.053984</td>\n",
       "      <td>0.261811</td>\n",
       "      <td>0.237469</td>\n",
       "      <td>0.100392</td>\n",
       "      <td>...</td>\n",
       "      <td>0.053380</td>\n",
       "      <td>0.149586</td>\n",
       "      <td>-0.484464</td>\n",
       "      <td>-0.400536</td>\n",
       "      <td>-0.234198</td>\n",
       "      <td>-0.058692</td>\n",
       "      <td>0.474812</td>\n",
       "      <td>-0.081868</td>\n",
       "      <td>-0.177556</td>\n",
       "      <td>-0.093071</td>\n",
       "    </tr>\n",
       "    <tr>\n",
       "      <th>4</th>\n",
       "      <td>-0.074843</td>\n",
       "      <td>-0.328858</td>\n",
       "      <td>0.276931</td>\n",
       "      <td>0.094675</td>\n",
       "      <td>-0.273127</td>\n",
       "      <td>-0.192434</td>\n",
       "      <td>-0.053984</td>\n",
       "      <td>0.338492</td>\n",
       "      <td>-0.057910</td>\n",
       "      <td>-0.051933</td>\n",
       "      <td>...</td>\n",
       "      <td>-0.122959</td>\n",
       "      <td>0.238526</td>\n",
       "      <td>-0.127849</td>\n",
       "      <td>0.302760</td>\n",
       "      <td>-0.234198</td>\n",
       "      <td>-0.233688</td>\n",
       "      <td>-0.327608</td>\n",
       "      <td>0.192490</td>\n",
       "      <td>-0.082193</td>\n",
       "      <td>0.011618</td>\n",
       "    </tr>\n",
       "    <tr>\n",
       "      <th>...</th>\n",
       "      <td>...</td>\n",
       "      <td>...</td>\n",
       "      <td>...</td>\n",
       "      <td>...</td>\n",
       "      <td>...</td>\n",
       "      <td>...</td>\n",
       "      <td>...</td>\n",
       "      <td>...</td>\n",
       "      <td>...</td>\n",
       "      <td>...</td>\n",
       "      <td>...</td>\n",
       "      <td>...</td>\n",
       "      <td>...</td>\n",
       "      <td>...</td>\n",
       "      <td>...</td>\n",
       "      <td>...</td>\n",
       "      <td>...</td>\n",
       "      <td>...</td>\n",
       "      <td>...</td>\n",
       "      <td>...</td>\n",
       "      <td>...</td>\n",
       "    </tr>\n",
       "    <tr>\n",
       "      <th>806</th>\n",
       "      <td>-0.738209</td>\n",
       "      <td>-0.727041</td>\n",
       "      <td>-0.643524</td>\n",
       "      <td>-0.717437</td>\n",
       "      <td>-0.731573</td>\n",
       "      <td>-0.582593</td>\n",
       "      <td>-0.653723</td>\n",
       "      <td>-0.735038</td>\n",
       "      <td>-0.722515</td>\n",
       "      <td>-0.661234</td>\n",
       "      <td>...</td>\n",
       "      <td>-0.740146</td>\n",
       "      <td>-0.650875</td>\n",
       "      <td>-0.662772</td>\n",
       "      <td>-0.752183</td>\n",
       "      <td>-0.750793</td>\n",
       "      <td>-0.671179</td>\n",
       "      <td>-0.773397</td>\n",
       "      <td>-0.813488</td>\n",
       "      <td>-0.654372</td>\n",
       "      <td>-0.930582</td>\n",
       "    </tr>\n",
       "    <tr>\n",
       "      <th>807</th>\n",
       "      <td>-0.738209</td>\n",
       "      <td>-0.647405</td>\n",
       "      <td>-0.720229</td>\n",
       "      <td>-0.717437</td>\n",
       "      <td>-0.655165</td>\n",
       "      <td>-0.582593</td>\n",
       "      <td>-0.578755</td>\n",
       "      <td>-0.274954</td>\n",
       "      <td>-0.722515</td>\n",
       "      <td>-0.661234</td>\n",
       "      <td>...</td>\n",
       "      <td>-0.475637</td>\n",
       "      <td>-0.472995</td>\n",
       "      <td>-0.395311</td>\n",
       "      <td>-0.576360</td>\n",
       "      <td>-0.406396</td>\n",
       "      <td>-0.321186</td>\n",
       "      <td>-0.327608</td>\n",
       "      <td>-0.356225</td>\n",
       "      <td>-0.272919</td>\n",
       "      <td>-0.407138</td>\n",
       "    </tr>\n",
       "    <tr>\n",
       "      <th>808</th>\n",
       "      <td>-0.655288</td>\n",
       "      <td>-0.727041</td>\n",
       "      <td>-0.720229</td>\n",
       "      <td>-0.717437</td>\n",
       "      <td>-0.655165</td>\n",
       "      <td>-0.660624</td>\n",
       "      <td>-0.578755</td>\n",
       "      <td>-0.658357</td>\n",
       "      <td>-0.648670</td>\n",
       "      <td>-0.737396</td>\n",
       "      <td>...</td>\n",
       "      <td>-0.563807</td>\n",
       "      <td>-0.739815</td>\n",
       "      <td>-0.751926</td>\n",
       "      <td>-0.576360</td>\n",
       "      <td>-0.578595</td>\n",
       "      <td>-0.758677</td>\n",
       "      <td>-0.773397</td>\n",
       "      <td>-0.813488</td>\n",
       "      <td>-0.463646</td>\n",
       "      <td>-0.616515</td>\n",
       "    </tr>\n",
       "    <tr>\n",
       "      <th>809</th>\n",
       "      <td>-0.738209</td>\n",
       "      <td>-0.727041</td>\n",
       "      <td>-0.720229</td>\n",
       "      <td>-0.643608</td>\n",
       "      <td>-0.731573</td>\n",
       "      <td>-0.738656</td>\n",
       "      <td>-0.728690</td>\n",
       "      <td>-0.735038</td>\n",
       "      <td>-0.648670</td>\n",
       "      <td>-0.737396</td>\n",
       "      <td>...</td>\n",
       "      <td>-0.740146</td>\n",
       "      <td>-0.739815</td>\n",
       "      <td>-0.751926</td>\n",
       "      <td>-0.664272</td>\n",
       "      <td>-0.664694</td>\n",
       "      <td>-0.758677</td>\n",
       "      <td>-0.773397</td>\n",
       "      <td>-0.813488</td>\n",
       "      <td>-0.654372</td>\n",
       "      <td>-0.930582</td>\n",
       "    </tr>\n",
       "    <tr>\n",
       "      <th>810</th>\n",
       "      <td>-0.738209</td>\n",
       "      <td>-0.647405</td>\n",
       "      <td>-0.720229</td>\n",
       "      <td>-0.717437</td>\n",
       "      <td>-0.731573</td>\n",
       "      <td>-0.738656</td>\n",
       "      <td>-0.728690</td>\n",
       "      <td>-0.735038</td>\n",
       "      <td>-0.722515</td>\n",
       "      <td>-0.737396</td>\n",
       "      <td>...</td>\n",
       "      <td>-0.740146</td>\n",
       "      <td>-0.739815</td>\n",
       "      <td>-0.751926</td>\n",
       "      <td>-0.752183</td>\n",
       "      <td>-0.750793</td>\n",
       "      <td>-0.758677</td>\n",
       "      <td>-0.773397</td>\n",
       "      <td>-0.813488</td>\n",
       "      <td>-0.845098</td>\n",
       "      <td>-0.825893</td>\n",
       "    </tr>\n",
       "  </tbody>\n",
       "</table>\n",
       "<p>811 rows × 52 columns</p>\n",
       "</div>"
      ],
      "text/plain": [
       "           W0        W1        W2        W3        W4        W5        W6  \\\n",
       "0    0.173919  0.228600  0.046817 -0.126810  0.261727  0.197725  0.320853   \n",
       "1   -0.157764 -0.249221 -0.490115 -0.569780 -0.196719 -0.660624 -0.278886   \n",
       "2   -0.157764  0.148963 -0.106592 -0.052982  0.032504 -0.114402 -0.203919   \n",
       "3    0.256839 -0.089947  0.276931 -0.348295 -0.043904 -0.270465 -0.053984   \n",
       "4   -0.074843 -0.328858  0.276931  0.094675 -0.273127 -0.192434 -0.053984   \n",
       "..        ...       ...       ...       ...       ...       ...       ...   \n",
       "806 -0.738209 -0.727041 -0.643524 -0.717437 -0.731573 -0.582593 -0.653723   \n",
       "807 -0.738209 -0.647405 -0.720229 -0.717437 -0.655165 -0.582593 -0.578755   \n",
       "808 -0.655288 -0.727041 -0.720229 -0.717437 -0.655165 -0.660624 -0.578755   \n",
       "809 -0.738209 -0.727041 -0.720229 -0.643608 -0.731573 -0.738656 -0.728690   \n",
       "810 -0.738209 -0.647405 -0.720229 -0.717437 -0.731573 -0.738656 -0.728690   \n",
       "\n",
       "           W7        W8        W9  ...       W42       W43       W44  \\\n",
       "0    0.875257 -0.279445  0.328879  ... -0.387468 -0.117234 -0.038696   \n",
       "1   -0.504996 -0.500980 -0.508909  ... -0.563807 -0.384055 -0.306157   \n",
       "2    0.261811  0.163624 -0.280421  ... -0.211129  0.505347 -0.306157   \n",
       "3    0.261811  0.237469  0.100392  ...  0.053380  0.149586 -0.484464   \n",
       "4    0.338492 -0.057910 -0.051933  ... -0.122959  0.238526 -0.127849   \n",
       "..        ...       ...       ...  ...       ...       ...       ...   \n",
       "806 -0.735038 -0.722515 -0.661234  ... -0.740146 -0.650875 -0.662772   \n",
       "807 -0.274954 -0.722515 -0.661234  ... -0.475637 -0.472995 -0.395311   \n",
       "808 -0.658357 -0.648670 -0.737396  ... -0.563807 -0.739815 -0.751926   \n",
       "809 -0.735038 -0.648670 -0.737396  ... -0.740146 -0.739815 -0.751926   \n",
       "810 -0.735038 -0.722515 -0.737396  ... -0.740146 -0.739815 -0.751926   \n",
       "\n",
       "          W45       W46       W47       W48       W49       W50       W51  \n",
       "0    0.126936  0.282397 -0.496182 -0.149293 -0.264773 -0.368283  0.116307  \n",
       "1   -0.664272 -0.664694 -0.408684 -0.327608 -0.722036 -0.272919 -0.930582  \n",
       "2   -0.312624 -0.148099 -0.058692  0.474812 -0.081868 -0.082193 -0.197760  \n",
       "3   -0.400536 -0.234198 -0.058692  0.474812 -0.081868 -0.177556 -0.093071  \n",
       "4    0.302760 -0.234198 -0.233688 -0.327608  0.192490 -0.082193  0.011618  \n",
       "..        ...       ...       ...       ...       ...       ...       ...  \n",
       "806 -0.752183 -0.750793 -0.671179 -0.773397 -0.813488 -0.654372 -0.930582  \n",
       "807 -0.576360 -0.406396 -0.321186 -0.327608 -0.356225 -0.272919 -0.407138  \n",
       "808 -0.576360 -0.578595 -0.758677 -0.773397 -0.813488 -0.463646 -0.616515  \n",
       "809 -0.664272 -0.664694 -0.758677 -0.773397 -0.813488 -0.654372 -0.930582  \n",
       "810 -0.752183 -0.750793 -0.758677 -0.773397 -0.813488 -0.845098 -0.825893  \n",
       "\n",
       "[811 rows x 52 columns]"
      ]
     },
     "execution_count": 140,
     "metadata": {},
     "output_type": "execute_result"
    }
   ],
   "source": [
    "scaled_X"
   ]
  },
  {
   "cell_type": "markdown",
   "metadata": {},
   "source": [
    "# K-Means"
   ]
  },
  {
   "cell_type": "code",
   "execution_count": 141,
   "metadata": {},
   "outputs": [
    {
     "data": {
      "image/png": "[encoded data removed]",
      "text/plain": [
       "<Figure size 432x288 with 1 Axes>"
      ]
     },
     "metadata": {
      "needs_background": "light"
     },
     "output_type": "display_data"
    }
   ],
   "source": [
    "wcss = []\n",
    "for i in range(1, 9):\n",
    "    kmeans = KMeans(n_clusters = i, init = 'k-means++', random_state = 42)\n",
    "    kmeans.fit(scaled_X)\n",
    "    wcss.append(kmeans.inertia_)\n",
    "plt.plot(range(1, 9), wcss)\n",
    "plt.title('The Elbow Method')\n",
    "plt.xlabel('Number of clusters')\n",
    "plt.ylabel('WCSS')\n",
    "plt.show()"
   ]
  },
  {
   "cell_type": "code",
   "execution_count": 142,
   "metadata": {},
   "outputs": [],
   "source": [
    "kmeans = KMeans(n_clusters = 3, init = 'k-means++', random_state = 42)\n",
    "y_kmeans = kmeans.fit_predict(scaled_X)"
   ]
  },
  {
   "cell_type": "code",
   "execution_count": 143,
   "metadata": {},
   "outputs": [
    {
     "data": {
      "image/png": "[encoded data removed]",
      "text/plain": [
       "<Figure size 432x288 with 1 Axes>"
      ]
     },
     "metadata": {
      "needs_background": "light"
     },
     "output_type": "display_data"
    }
   ],
   "source": [
    "plt.scatter(scaled_X[y_kmeans == 0]['W0'], scaled_X[y_kmeans == 0]['W2'], s = 20, c = 'red', label = 'Cluster 1')\n",
    "plt.scatter(scaled_X[y_kmeans == 1]['W0'], scaled_X[y_kmeans == 1]['W2'], s = 20, c = 'green', label = 'Cluster 2')\n",
    "plt.scatter(scaled_X[y_kmeans == 2]['W0'], scaled_X[y_kmeans == 2]['W2'], s = 20, c = 'blue', label = 'Cluster 3')\n",
    "plt.scatter(kmeans.cluster_centers_[:, 0], kmeans.cluster_centers_[:, 1], s = 30, c = 'yellow', label = 'Centroids')\n",
    "plt.title('Clusters of sales')\n",
    "plt.xlabel('First week')\n",
    "plt.ylabel('Third week')\n",
    "plt.legend()\n",
    "plt.show()"
   ]
  },
  {
   "cell_type": "code",
   "execution_count": 144,
   "metadata": {
    "scrolled": false
   },
   "outputs": [
    {
     "data": {
      "image/png": "[encoded data removed]",
      "text/plain": [
       "<Figure size 432x288 with 1 Axes>"
      ]
     },
     "metadata": {
      "needs_background": "light"
     },
     "output_type": "display_data"
    }
   ],
   "source": [
    "plt.scatter(scaled_X[y_kmeans == 0]['W0'], scaled_X[y_kmeans == 0]['W22'], s = 20, c = 'red', label = 'Cluster 1')\n",
    "plt.scatter(scaled_X[y_kmeans == 1]['W0'], scaled_X[y_kmeans == 1]['W22'], s = 20, c = 'green', label = 'Cluster 2')\n",
    "plt.scatter(scaled_X[y_kmeans == 2]['W0'], scaled_X[y_kmeans == 2]['W22'], s = 20, c = 'blue', label = 'Cluster 3')\n",
    "plt.scatter(kmeans.cluster_centers_[:, 0], kmeans.cluster_centers_[:, 1], s = 30, c = 'yellow', label = 'Centroids')\n",
    "plt.title('Clusters of sales')\n",
    "plt.xlabel('First week')\n",
    "plt.ylabel('Third week')\n",
    "plt.legend()\n",
    "plt.show()"
   ]
  },
  {
   "cell_type": "markdown",
   "metadata": {},
   "source": [
    "# DBSCAN"
   ]
  },
  {
   "cell_type": "code",
   "execution_count": 173,
   "metadata": {},
   "outputs": [
    {
     "data": {
      "text/plain": [
       "array([[ 0.17391867,  0.22859969,  0.04681724, ..., -0.26477272,\n",
       "        -0.36828257,  0.11630659],\n",
       "       [-0.15776396, -0.2492208 , -0.49011498, ..., -0.72203567,\n",
       "        -0.27291949, -0.93058184],\n",
       "       [-0.15776396,  0.14896294, -0.10659197, ..., -0.08186755,\n",
       "        -0.08219333, -0.19775994],\n",
       "       ...,\n",
       "       [-0.65528791, -0.72704129, -0.72022878, ..., -0.81348826,\n",
       "        -0.46364565, -0.61651531],\n",
       "       [-0.73820856, -0.72704129, -0.72022878, ..., -0.81348826,\n",
       "        -0.65437181, -0.93058184],\n",
       "       [-0.73820856, -0.64740454, -0.72022878, ..., -0.81348826,\n",
       "        -0.84509797, -0.82589299]])"
      ]
     },
     "execution_count": 173,
     "metadata": {},
     "output_type": "execute_result"
    }
   ],
   "source": [
    "from sklearn.cluster import DBSCAN\n",
    "from sklearn import metrics\n",
    "from sklearn.metrics import silhouette_score, silhouette_samples\n",
    "Xdb = StandardScaler().fit_transform(X)\n",
    "Xdb"
   ]
  },
  {
   "cell_type": "code",
   "execution_count": 191,
   "metadata": {
    "scrolled": true
   },
   "outputs": [
    {
     "name": "stdout",
     "output_type": "stream",
     "text": [
      "eps values is: 0.1\n",
      "{0, 1, 2, 3, -1}\n",
      "EPS: 0.1 Avgerage silhouette score:-0.41009641082021664\n",
      "eps values is: 0.2\n",
      "{0, -1}\n",
      "EPS: 0.2 Avgerage silhouette score:-0.23300221282540046\n",
      "eps values is: 0.3\n",
      "{0, -1}\n",
      "EPS: 0.3 Avgerage silhouette score:-0.08242717214963192\n",
      "eps values is: 0.4\n",
      "{0, -1}\n",
      "EPS: 0.4 Avgerage silhouette score:0.015661411952429878\n",
      "eps values is: 0.5\n",
      "{0, -1}\n",
      "EPS: 0.5 Avgerage silhouette score:0.09871660383617564\n",
      "eps values is: 0.6\n",
      "{0, -1}\n",
      "EPS: 0.6 Avgerage silhouette score:0.130409426813381\n",
      "eps values is: 0.7\n",
      "{0, -1}\n",
      "EPS: 0.7 Avgerage silhouette score:0.16327143005224837\n",
      "eps values is: 0.8\n",
      "{0, -1}\n",
      "EPS: 0.8 Avgerage silhouette score:0.20429770739042022\n",
      "eps values is: 0.9\n",
      "{0, -1}\n",
      "EPS: 0.9 Avgerage silhouette score:0.2270269209031609\n"
     ]
    }
   ],
   "source": [
    "# To determine eps\n",
    "range_eps=[0.1, 0.2, 0.3, 0.4, 0.5, 0.6, 0.7, 0.8, 0.9]\n",
    "for i in range_eps:\n",
    "    print (\"eps values is: \" + str(i))\n",
    "    db = DBSCAN(eps=i, min_samples=2).fit(Xdb)\n",
    "    core_samples_mask = np.zeros_like(db.labels_, dtype=bool)\n",
    "    core_samples_mask[db.core_sample_indices_] = True\n",
    "    labels = db.labels_\n",
    "    print(set(labels))\n",
    "    silhouette_avg= silhouette_score(Xdb,labels)\n",
    "    print(\"EPS: \"+str(i)+\" Avgerage silhouette score:\"+str(silhouette_avg))"
   ]
  },
  {
   "cell_type": "code",
   "execution_count": 183,
   "metadata": {},
   "outputs": [
    {
     "name": "stdout",
     "output_type": "stream",
     "text": [
      "min_sample values is: 1\n",
      "{0, 1, 2, 3, 4, 5, 6, 7, 8, 9, 10, 11, 12, 13, 14, 15, 16, 17, 18, 19, 20, 21, 22, 23, 24, 25, 26, 27, 28, 29, 30, 31, 32, 33, 34, 35, 36, 37, 38, 39, 40, 41, 42, 43, 44, 45, 46, 47, 48, 49, 50, 51, 52, 53, 54, 55, 56, 57, 58, 59, 60, 61, 62, 63, 64, 65, 66, 67, 68, 69, 70, 71, 72, 73, 74, 75, 76, 77, 78, 79, 80, 81, 82, 83, 84, 85, 86, 87, 88, 89, 90, 91, 92, 93, 94, 95, 96, 97, 98, 99, 100, 101, 102, 103, 104, 105, 106, 107, 108, 109, 110, 111, 112, 113, 114, 115, 116, 117, 118, 119, 120, 121, 122, 123, 124, 125, 126, 127, 128, 129, 130, 131, 132, 133, 134, 135, 136, 137, 138, 139, 140, 141, 142, 143, 144, 145, 146, 147, 148, 149, 150, 151, 152, 153, 154, 155, 156, 157, 158, 159, 160, 161, 162, 163, 164, 165, 166, 167, 168, 169, 170, 171, 172, 173, 174, 175, 176, 177, 178, 179, 180, 181, 182, 183, 184, 185, 186, 187, 188, 189, 190, 191, 192, 193, 194, 195, 196, 197, 198, 199, 200, 201, 202, 203, 204, 205, 206, 207, 208, 209, 210, 211, 212, 213, 214, 215, 216, 217, 218, 219, 220, 221, 222, 223, 224, 225, 226, 227, 228, 229, 230, 231, 232, 233, 234, 235, 236, 237, 238, 239, 240, 241, 242, 243, 244, 245, 246, 247, 248, 249, 250, 251, 252, 253, 254, 255, 256, 257, 258, 259, 260, 261, 262, 263, 264, 265, 266, 267, 268, 269, 270, 271, 272, 273, 274, 275, 276, 277, 278, 279, 280, 281, 282, 283, 284, 285, 286, 287, 288, 289, 290, 291, 292, 293, 294, 295, 296, 297, 298, 299, 300, 301, 302, 303, 304, 305, 306, 307, 308, 309, 310, 311, 312, 313, 314, 315, 316, 317, 318, 319, 320, 321, 322, 323, 324, 325, 326, 327, 328, 329, 330, 331, 332, 333, 334, 335, 336, 337, 338, 339, 340, 341, 342, 343, 344, 345, 346, 347, 348, 349, 350, 351, 352, 353, 354, 355, 356, 357, 358, 359, 360, 361, 362, 363, 364, 365, 366, 367, 368, 369, 370, 371, 372, 373, 374, 375, 376, 377, 378, 379, 380, 381, 382, 383, 384, 385, 386, 387, 388, 389, 390, 391, 392, 393, 394, 395, 396, 397, 398, 399, 400, 401, 402, 403, 404, 405, 406, 407, 408, 409, 410, 411, 412, 413, 414, 415, 416, 417, 418, 419, 420, 421, 422, 423, 424, 425, 426, 427, 428, 429, 430, 431, 432, 433, 434, 435, 436, 437, 438, 439, 440, 441, 442, 443, 444, 445, 446, 447, 448, 449, 450, 451, 452, 453, 454, 455, 456, 457, 458, 459, 460, 461, 462, 463, 464, 465, 466, 467, 468, 469, 470, 471, 472, 473, 474, 475, 476, 477, 478, 479, 480, 481, 482, 483, 484, 485, 486, 487, 488, 489, 490, 491, 492, 493, 494, 495, 496, 497, 498, 499, 500, 501, 502, 503, 504, 505, 506, 507, 508, 509, 510, 511, 512, 513, 514, 515, 516, 517, 518, 519, 520, 521, 522, 523, 524, 525, 526}\n",
      "min_sample: 1 Total no of clusters:527\n",
      "min_sample values is: 2\n",
      "{0}\n",
      "min_sample: 2 Total no of clusters:1\n",
      "min_sample values is: 3\n",
      "{0}\n",
      "min_sample: 3 Total no of clusters:1\n",
      "min_sample values is: 4\n",
      "{0}\n",
      "min_sample: 4 Total no of clusters:1\n",
      "min_sample values is: 5\n",
      "{0}\n",
      "min_sample: 5 Total no of clusters:1\n",
      "min_sample values is: 6\n",
      "{0}\n",
      "min_sample: 6 Total no of clusters:1\n",
      "min_sample values is: 7\n",
      "{0}\n",
      "min_sample: 7 Total no of clusters:1\n",
      "min_sample values is: 8\n",
      "{0}\n",
      "min_sample: 8 Total no of clusters:1\n",
      "min_sample values is: 9\n",
      "{0}\n",
      "min_sample: 9 Total no of clusters:1\n",
      "min_sample values is: 10\n",
      "{0}\n",
      "min_sample: 10 Total no of clusters:1\n"
     ]
    }
   ],
   "source": [
    "# To determine number of minimum sample\n",
    "min_samples=[1,2,3,4,5,6,7,8,9,10]\n",
    "for i in min_samples:\n",
    "    print (\"min_sample values is: \" + str(i))\n",
    "    db = DBSCAN(eps=0.8, min_samples=i).fit(Xdb)\n",
    "    core_samples_mask = np.zeros_like(db.labels_, dtype=bool)\n",
    "    core_samples_mask[db.core_sample_indices_] = True\n",
    "    #ignore the label '-1' as its for the outliers \n",
    "    labels = db.labels_\n",
    "    labels=set([label for label in db.labels_ if label >=0])\n",
    "    print(set(labels))\n",
    "\n",
    "    print (\"min_sample: \"+str(i)+\" Total no of clusters:\"+str(len(set(labels))))"
   ]
  },
  {
   "cell_type": "code",
   "execution_count": 185,
   "metadata": {},
   "outputs": [],
   "source": [
    "# DBSCAN implementation\n",
    "db = DBSCAN(eps=0.2, min_samples=4).fit(Xdb)\n",
    "core_samples_mask = np.zeros_like(db.labels_, dtype=bool)\n",
    "core_samples_mask[db.core_sample_indices_] = True\n",
    "labels = db.labels_"
   ]
  },
  {
   "cell_type": "code",
   "execution_count": 186,
   "metadata": {},
   "outputs": [
    {
     "name": "stdout",
     "output_type": "stream",
     "text": [
      "Estimated number of clusters: 1\n",
      "Estimated number of noise points: 727\n",
      "Silhouette Coefficient: -0.233\n"
     ]
    }
   ],
   "source": [
    "# Number of clusters in labels, ignoring noise if present.\n",
    "n_clusters_ = len(set(labels)) - (1 if -1 in labels else 0)\n",
    "n_noise_ = list(labels).count(-1)\n",
    "\n",
    "print('Estimated number of clusters: %d' % n_clusters_)\n",
    "print('Estimated number of noise points: %d' % n_noise_)\n",
    "#print(\"Homogeneity: %0.3f\" % metrics.homogeneity_score(labels_true, labels))\n",
    "#print(\"Completeness: %0.3f\" % metrics.completeness_score(labels_true, labels))\n",
    "#print(\"V-measure: %0.3f\" % metrics.v_measure_score(labels_true, labels))\n",
    "#print(\"Adjusted Rand Index: %0.3f\"\n",
    "#      % metrics.adjusted_rand_score(labels_true, labels))\n",
    "#print(\"Adjusted Mutual Information: %0.3f\"\n",
    "#      % metrics.adjusted_mutual_info_score(labels_true, labels))\n",
    "print(\"Silhouette Coefficient: %0.3f\"\n",
    "      % metrics.silhouette_score(Xdb, labels))"
   ]
  },
  {
   "cell_type": "code",
   "execution_count": 187,
   "metadata": {},
   "outputs": [
    {
     "data": {
      "image/png": "[encoded data removed]",
      "text/plain": [
       "<Figure size 432x288 with 1 Axes>"
      ]
     },
     "metadata": {
      "needs_background": "light"
     },
     "output_type": "display_data"
    }
   ],
   "source": [
    "# Visulization\n",
    "import matplotlib.pyplot as plt\n",
    "\n",
    "# Black removed and is used for noise instead.\n",
    "unique_labels = set(labels)\n",
    "colors = [plt.cm.Spectral(each)\n",
    "          for each in np.linspace(0, 1, len(unique_labels))]\n",
    "for k, col in zip(unique_labels, colors):\n",
    "    if k == -1:\n",
    "        # Black used for noise.\n",
    "        col = [0, 0, 0, 1]\n",
    "\n",
    "    class_member_mask = (labels == k)\n",
    "\n",
    "    xy = Xdb[class_member_mask & core_samples_mask]\n",
    "    plt.plot(xy[:, 0], xy[:, 1], 'o', markerfacecolor=tuple(col),\n",
    "             markeredgecolor='k', markersize=14)\n",
    "\n",
    "    xy = Xdb[class_member_mask & ~core_samples_mask]\n",
    "    plt.plot(xy[:, 0], xy[:, 1], 'o', markerfacecolor=tuple(col),\n",
    "             markeredgecolor='k', markersize=6)\n",
    "\n",
    "plt.title('Estimated number of clusters: %d' % n_clusters_)\n",
    "plt.show()"
   ]
  },
  {
   "cell_type": "markdown",
   "metadata": {},
   "source": [
    "# AGNES"
   ]
  },
  {
   "cell_type": "code",
   "execution_count": 197,
   "metadata": {},
   "outputs": [],
   "source": [
    "import scipy.cluster.hierarchy as shc\n",
    "from sklearn.cluster import AgglomerativeClustering"
   ]
  },
  {
   "cell_type": "code",
   "execution_count": 200,
   "metadata": {},
   "outputs": [
    {
     "data": {
      "image/png": "[encoded data removed]",
      "text/plain": [
       "<Figure size 1080x1440 with 1 Axes>"
      ]
     },
     "metadata": {
      "needs_background": "light"
     },
     "output_type": "display_data"
    }
   ],
   "source": [
    "data = X.iloc[:, 3:5].values\n",
    "\n",
    "plt.figure(figsize=(15, 20))\n",
    "plt.title(\"Customer Dendograms\")\n",
    "dend = shc.dendrogram(shc.linkage(data, method='ward'))"
   ]
  },
  {
   "cell_type": "code",
   "execution_count": 201,
   "metadata": {},
   "outputs": [
    {
     "data": {
      "text/plain": [
       "array([0, 0, 0, 0, 0, 0, 0, 0, 0, 0, 0, 0, 0, 0, 1, 1, 1, 1, 1, 0, 0, 0,\n",
       "       0, 1, 0, 0, 1, 1, 0, 1, 0, 0, 0, 1, 1, 1, 1, 1, 1, 1, 1, 1, 1, 1,\n",
       "       1, 1, 1, 1, 1, 0, 0, 1, 0, 1, 1, 1, 1, 1, 0, 1, 1, 0, 1, 1, 0, 1,\n",
       "       1, 0, 1, 1, 0, 1, 1, 0, 1, 1, 0, 1, 1, 1, 0, 0, 1, 1, 1, 1, 1, 1,\n",
       "       1, 1, 0, 1, 0, 0, 0, 1, 1, 0, 0, 0, 1, 1, 0, 0, 0, 0, 0, 0, 0, 0,\n",
       "       0, 1, 1, 0, 0, 0, 0, 0, 1, 1, 0, 0, 0, 0, 0, 0, 0, 1, 1, 1, 1, 1,\n",
       "       1, 1, 1, 1, 1, 1, 1, 1, 1, 1, 1, 0, 0, 0, 0, 0, 0, 0, 0, 0, 0, 0,\n",
       "       0, 0, 0, 0, 0, 0, 0, 0, 0, 0, 0, 0, 1, 1, 1, 1, 0, 1, 1, 1, 1, 1,\n",
       "       1, 1, 1, 1, 1, 1, 1, 1, 1, 1, 1, 1, 1, 1, 1, 1, 1, 1, 0, 1, 0, 0,\n",
       "       0, 0, 0, 0, 0, 0, 0, 0, 0, 1, 0, 0, 0, 0, 0, 0, 0, 0, 0, 0, 0, 0,\n",
       "       0, 0, 0, 0, 0, 0, 0, 0, 0, 0, 0, 0, 0, 0, 0, 0, 0, 0, 0, 0, 0, 0,\n",
       "       0, 0, 0, 0, 0, 0, 0, 0, 0, 0, 0, 0, 0, 0, 0, 0, 0, 0, 0, 1, 0, 0,\n",
       "       0, 0, 0, 0, 0, 0, 0, 0, 0, 0, 0, 0, 0, 0, 0, 0, 0, 0, 0, 0, 0, 0,\n",
       "       0, 0, 0, 0, 0, 0, 0, 0, 0, 0, 0, 0, 0, 0, 0, 0, 0, 0, 0, 0, 0, 0,\n",
       "       0, 0, 0, 0, 0, 0, 0, 0, 0, 0, 0, 0, 0, 0, 0, 0, 0, 0, 0, 0, 0, 0,\n",
       "       0, 0, 0, 0, 0, 0, 0, 0, 0, 0, 0, 0, 0, 0, 0, 0, 0, 0, 0, 0, 0, 0,\n",
       "       0, 0, 0, 0, 0, 0, 0, 0, 0, 0, 0, 0, 0, 0, 0, 0, 0, 0, 0, 0, 0, 0,\n",
       "       0, 0, 0, 0, 0, 0, 0, 0, 0, 0, 0, 0, 0, 0, 0, 0, 0, 0, 0, 0, 0, 0,\n",
       "       0, 0, 0, 0, 0, 0, 0, 0, 0, 0, 1, 0, 0, 0, 0, 0, 0, 0, 0, 0, 0, 0,\n",
       "       0, 0, 0, 0, 0, 0, 0, 0, 0, 0, 0, 0, 0, 0, 0, 0, 0, 0, 0, 0, 0, 0,\n",
       "       0, 0, 0, 0, 0, 0, 0, 0, 0, 0, 0, 0, 0, 0, 0, 0, 0, 0, 0, 0, 0, 0,\n",
       "       0, 0, 0, 0, 0, 0, 0, 0, 0, 0, 0, 0, 0, 0, 0, 0, 0, 0, 0, 0, 0, 0,\n",
       "       0, 0, 0, 0, 0, 0, 0, 0, 0, 0, 0, 0, 0, 0, 0, 0, 0, 0, 0, 0, 0, 0,\n",
       "       0, 0, 0, 0, 0, 0, 0, 0, 0, 0, 0, 0, 0, 0, 0, 0, 0, 0, 0, 0, 0, 0,\n",
       "       0, 0, 0, 0, 0, 0, 0, 0, 0, 0, 0, 0, 0, 0, 0, 0, 0, 1, 1, 0, 0, 0,\n",
       "       0, 0, 0, 0, 1, 0, 0, 0, 0, 0, 0, 0, 0, 0, 0, 0, 0, 0, 0, 0, 0, 0,\n",
       "       0, 0, 0, 0, 0, 0, 0, 0, 0, 0, 0, 0, 0, 0, 0, 0, 0, 0, 0, 0, 0, 0,\n",
       "       0, 0, 0, 0, 0, 0, 0, 0, 0, 0, 0, 0, 0, 0, 0, 0, 0, 0, 0, 0, 1, 1,\n",
       "       1, 1, 1, 1, 1, 0, 0, 0, 0, 0, 0, 0, 0, 0, 0, 0, 0, 0, 0, 0, 0, 0,\n",
       "       0, 0, 0, 0, 0, 0, 0, 0, 0, 0, 0, 0, 0, 0, 0, 0, 0, 0, 0, 0, 0, 0,\n",
       "       0, 0, 0, 0, 0, 0, 0, 0, 0, 0, 0, 0, 0, 0, 0, 0, 0, 0, 0, 0, 0, 0,\n",
       "       0, 0, 0, 0, 0, 0, 0, 0, 0, 0, 0, 0, 0, 0, 0, 0, 0, 0, 0, 0, 0, 0,\n",
       "       0, 0, 0, 0, 0, 0, 0, 0, 0, 0, 0, 0, 0, 0, 0, 0, 0, 0, 0, 0, 0, 0,\n",
       "       0, 0, 0, 0, 0, 0, 0, 0, 0, 0, 0, 0, 0, 0, 0, 0, 0, 0, 0, 0, 0, 0,\n",
       "       0, 0, 0, 0, 0, 0, 0, 0, 0, 0, 0, 0, 0, 0, 0, 0, 0, 0, 0, 0, 0, 0,\n",
       "       0, 0, 0, 0, 0, 0, 0, 0, 0, 0, 0, 0, 0, 0, 0, 0, 0, 0, 0, 0, 0, 0,\n",
       "       0, 0, 0, 0, 0, 0, 0, 0, 0, 0, 0, 0, 0, 0, 0, 0, 0, 0, 0],\n",
       "      dtype=int64)"
      ]
     },
     "execution_count": 201,
     "metadata": {},
     "output_type": "execute_result"
    }
   ],
   "source": [
    "cluster = AgglomerativeClustering(n_clusters=2, affinity='euclidean', linkage='ward')\n",
    "cluster.fit_predict(data)"
   ]
  },
  {
   "cell_type": "code",
   "execution_count": 202,
   "metadata": {},
   "outputs": [
    {
     "data": {
      "text/plain": [
       "<matplotlib.collections.PathCollection at 0x192690f6488>"
      ]
     },
     "execution_count": 202,
     "metadata": {},
     "output_type": "execute_result"
    },
    {
     "data": {
      "image/png": "[encoded data removed]",
      "text/plain": [
       "<Figure size 720x504 with 1 Axes>"
      ]
     },
     "metadata": {
      "needs_background": "light"
     },
     "output_type": "display_data"
    }
   ],
   "source": [
    "plt.figure(figsize=(10, 7))\n",
    "plt.scatter(data[:,0], data[:,1], c=cluster.labels_, cmap='rainbow')"
   ]
  },
  {
   "cell_type": "code",
   "execution_count": null,
   "metadata": {},
   "outputs": [],
   "source": []
  }
 ],
 "metadata": {
  "kernelspec": {
   "display_name": "Python 3",
   "language": "python",
   "name": "python3"
  },
  "language_info": {
   "codemirror_mode": {
    "name": "ipython",
    "version": 3
   },
   "file_extension": ".py",
   "mimetype": "text/x-python",
   "name": "python",
   "nbconvert_exporter": "python",
   "pygments_lexer": "ipython3",
   "version": "3.7.6"
  }
 },
 "nbformat": 4,
 "nbformat_minor": 2
}
