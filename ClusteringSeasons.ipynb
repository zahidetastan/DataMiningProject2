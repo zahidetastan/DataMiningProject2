{
 "cells": [
  {
   "cell_type": "code",
   "execution_count": 1,
   "metadata": {},
   "outputs": [],
   "source": [
    "import pandas as pd\n",
    "from matplotlib import pyplot\n",
    "import numpy as np\n",
    "from sklearn.preprocessing import StandardScaler\n",
    "from sklearn.cluster import KMeans\n",
    "import matplotlib.pyplot as plt\n"
   ]
  },
  {
   "cell_type": "code",
   "execution_count": 2,
   "metadata": {},
   "outputs": [],
   "source": [
    "df = pd.read_csv(\"Sales_Transactions_Dataset_Weekly.csv\")"
   ]
  },
  {
   "cell_type": "code",
   "execution_count": 3,
   "metadata": {},
   "outputs": [
    {
     "data": {
      "text/html": [
       "<div>\n",
       "<style scoped>\n",
       "    .dataframe tbody tr th:only-of-type {\n",
       "        vertical-align: middle;\n",
       "    }\n",
       "\n",
       "    .dataframe tbody tr th {\n",
       "        vertical-align: top;\n",
       "    }\n",
       "\n",
       "    .dataframe thead th {\n",
       "        text-align: right;\n",
       "    }\n",
       "</style>\n",
       "<table border=\"1\" class=\"dataframe\">\n",
       "  <thead>\n",
       "    <tr style=\"text-align: right;\">\n",
       "      <th></th>\n",
       "      <th>W0</th>\n",
       "      <th>W1</th>\n",
       "      <th>W2</th>\n",
       "      <th>W3</th>\n",
       "      <th>W4</th>\n",
       "      <th>W5</th>\n",
       "      <th>W6</th>\n",
       "      <th>W7</th>\n",
       "      <th>W8</th>\n",
       "      <th>W9</th>\n",
       "      <th>...</th>\n",
       "      <th>W42</th>\n",
       "      <th>W43</th>\n",
       "      <th>W44</th>\n",
       "      <th>W45</th>\n",
       "      <th>W46</th>\n",
       "      <th>W47</th>\n",
       "      <th>W48</th>\n",
       "      <th>W49</th>\n",
       "      <th>W50</th>\n",
       "      <th>W51</th>\n",
       "    </tr>\n",
       "  </thead>\n",
       "  <tbody>\n",
       "    <tr>\n",
       "      <th>0</th>\n",
       "      <td>11</td>\n",
       "      <td>12</td>\n",
       "      <td>10</td>\n",
       "      <td>8</td>\n",
       "      <td>13</td>\n",
       "      <td>12</td>\n",
       "      <td>14</td>\n",
       "      <td>21</td>\n",
       "      <td>6</td>\n",
       "      <td>14</td>\n",
       "      <td>...</td>\n",
       "      <td>4</td>\n",
       "      <td>7</td>\n",
       "      <td>8</td>\n",
       "      <td>10</td>\n",
       "      <td>12</td>\n",
       "      <td>3</td>\n",
       "      <td>7</td>\n",
       "      <td>6</td>\n",
       "      <td>5</td>\n",
       "      <td>10</td>\n",
       "    </tr>\n",
       "    <tr>\n",
       "      <th>1</th>\n",
       "      <td>7</td>\n",
       "      <td>6</td>\n",
       "      <td>3</td>\n",
       "      <td>2</td>\n",
       "      <td>7</td>\n",
       "      <td>1</td>\n",
       "      <td>6</td>\n",
       "      <td>3</td>\n",
       "      <td>3</td>\n",
       "      <td>3</td>\n",
       "      <td>...</td>\n",
       "      <td>2</td>\n",
       "      <td>4</td>\n",
       "      <td>5</td>\n",
       "      <td>1</td>\n",
       "      <td>1</td>\n",
       "      <td>4</td>\n",
       "      <td>5</td>\n",
       "      <td>1</td>\n",
       "      <td>6</td>\n",
       "      <td>0</td>\n",
       "    </tr>\n",
       "    <tr>\n",
       "      <th>2</th>\n",
       "      <td>7</td>\n",
       "      <td>11</td>\n",
       "      <td>8</td>\n",
       "      <td>9</td>\n",
       "      <td>10</td>\n",
       "      <td>8</td>\n",
       "      <td>7</td>\n",
       "      <td>13</td>\n",
       "      <td>12</td>\n",
       "      <td>6</td>\n",
       "      <td>...</td>\n",
       "      <td>6</td>\n",
       "      <td>14</td>\n",
       "      <td>5</td>\n",
       "      <td>5</td>\n",
       "      <td>7</td>\n",
       "      <td>8</td>\n",
       "      <td>14</td>\n",
       "      <td>8</td>\n",
       "      <td>8</td>\n",
       "      <td>7</td>\n",
       "    </tr>\n",
       "    <tr>\n",
       "      <th>3</th>\n",
       "      <td>12</td>\n",
       "      <td>8</td>\n",
       "      <td>13</td>\n",
       "      <td>5</td>\n",
       "      <td>9</td>\n",
       "      <td>6</td>\n",
       "      <td>9</td>\n",
       "      <td>13</td>\n",
       "      <td>13</td>\n",
       "      <td>11</td>\n",
       "      <td>...</td>\n",
       "      <td>9</td>\n",
       "      <td>10</td>\n",
       "      <td>3</td>\n",
       "      <td>4</td>\n",
       "      <td>6</td>\n",
       "      <td>8</td>\n",
       "      <td>14</td>\n",
       "      <td>8</td>\n",
       "      <td>7</td>\n",
       "      <td>8</td>\n",
       "    </tr>\n",
       "    <tr>\n",
       "      <th>4</th>\n",
       "      <td>8</td>\n",
       "      <td>5</td>\n",
       "      <td>13</td>\n",
       "      <td>11</td>\n",
       "      <td>6</td>\n",
       "      <td>7</td>\n",
       "      <td>9</td>\n",
       "      <td>14</td>\n",
       "      <td>9</td>\n",
       "      <td>9</td>\n",
       "      <td>...</td>\n",
       "      <td>7</td>\n",
       "      <td>11</td>\n",
       "      <td>7</td>\n",
       "      <td>12</td>\n",
       "      <td>6</td>\n",
       "      <td>6</td>\n",
       "      <td>5</td>\n",
       "      <td>11</td>\n",
       "      <td>8</td>\n",
       "      <td>9</td>\n",
       "    </tr>\n",
       "  </tbody>\n",
       "</table>\n",
       "<p>5 rows × 52 columns</p>\n",
       "</div>"
      ],
      "text/plain": [
       "   W0  W1  W2  W3  W4  W5  W6  W7  W8  W9  ...  W42  W43  W44  W45  W46  W47  \\\n",
       "0  11  12  10   8  13  12  14  21   6  14  ...    4    7    8   10   12    3   \n",
       "1   7   6   3   2   7   1   6   3   3   3  ...    2    4    5    1    1    4   \n",
       "2   7  11   8   9  10   8   7  13  12   6  ...    6   14    5    5    7    8   \n",
       "3  12   8  13   5   9   6   9  13  13  11  ...    9   10    3    4    6    8   \n",
       "4   8   5  13  11   6   7   9  14   9   9  ...    7   11    7   12    6    6   \n",
       "\n",
       "   W48  W49  W50  W51  \n",
       "0    7    6    5   10  \n",
       "1    5    1    6    0  \n",
       "2   14    8    8    7  \n",
       "3   14    8    7    8  \n",
       "4    5   11    8    9  \n",
       "\n",
       "[5 rows x 52 columns]"
      ]
     },
     "execution_count": 3,
     "metadata": {},
     "output_type": "execute_result"
    }
   ],
   "source": [
    "X = df.iloc[:, 1:53]\n",
    "X.head()\n",
    "\n"
   ]
  },
  {
   "cell_type": "code",
   "execution_count": 4,
   "metadata": {},
   "outputs": [
    {
     "data": {
      "text/html": [
       "<div>\n",
       "<style scoped>\n",
       "    .dataframe tbody tr th:only-of-type {\n",
       "        vertical-align: middle;\n",
       "    }\n",
       "\n",
       "    .dataframe tbody tr th {\n",
       "        vertical-align: top;\n",
       "    }\n",
       "\n",
       "    .dataframe thead th {\n",
       "        text-align: right;\n",
       "    }\n",
       "</style>\n",
       "<table border=\"1\" class=\"dataframe\">\n",
       "  <thead>\n",
       "    <tr style=\"text-align: right;\">\n",
       "      <th></th>\n",
       "      <th>January</th>\n",
       "      <th>February</th>\n",
       "      <th>March</th>\n",
       "      <th>April</th>\n",
       "      <th>May</th>\n",
       "      <th>June</th>\n",
       "      <th>July</th>\n",
       "      <th>August</th>\n",
       "      <th>September</th>\n",
       "      <th>October</th>\n",
       "      <th>November</th>\n",
       "      <th>December</th>\n",
       "    </tr>\n",
       "  </thead>\n",
       "  <tbody>\n",
       "    <tr>\n",
       "      <th>0</th>\n",
       "      <td>47.5</td>\n",
       "      <td>59.5</td>\n",
       "      <td>59.5</td>\n",
       "      <td>40.5</td>\n",
       "      <td>34.5</td>\n",
       "      <td>44.5</td>\n",
       "      <td>38.0</td>\n",
       "      <td>42.0</td>\n",
       "      <td>51.5</td>\n",
       "      <td>30.5</td>\n",
       "      <td>35.0</td>\n",
       "      <td>32.5</td>\n",
       "    </tr>\n",
       "    <tr>\n",
       "      <th>1</th>\n",
       "      <td>21.5</td>\n",
       "      <td>16.5</td>\n",
       "      <td>14.0</td>\n",
       "      <td>20.0</td>\n",
       "      <td>28.0</td>\n",
       "      <td>20.0</td>\n",
       "      <td>21.5</td>\n",
       "      <td>18.5</td>\n",
       "      <td>18.0</td>\n",
       "      <td>15.0</td>\n",
       "      <td>11.5</td>\n",
       "      <td>11.5</td>\n",
       "    </tr>\n",
       "    <tr>\n",
       "      <th>2</th>\n",
       "      <td>40.0</td>\n",
       "      <td>45.0</td>\n",
       "      <td>36.5</td>\n",
       "      <td>42.5</td>\n",
       "      <td>42.5</td>\n",
       "      <td>45.5</td>\n",
       "      <td>36.5</td>\n",
       "      <td>35.5</td>\n",
       "      <td>40.5</td>\n",
       "      <td>23.5</td>\n",
       "      <td>38.0</td>\n",
       "      <td>34.5</td>\n",
       "    </tr>\n",
       "    <tr>\n",
       "      <th>3</th>\n",
       "      <td>42.5</td>\n",
       "      <td>45.5</td>\n",
       "      <td>30.0</td>\n",
       "      <td>40.0</td>\n",
       "      <td>37.5</td>\n",
       "      <td>37.5</td>\n",
       "      <td>26.0</td>\n",
       "      <td>42.0</td>\n",
       "      <td>36.0</td>\n",
       "      <td>33.0</td>\n",
       "      <td>36.0</td>\n",
       "      <td>37.0</td>\n",
       "    </tr>\n",
       "    <tr>\n",
       "      <th>4</th>\n",
       "      <td>40.0</td>\n",
       "      <td>42.0</td>\n",
       "      <td>48.0</td>\n",
       "      <td>46.0</td>\n",
       "      <td>41.0</td>\n",
       "      <td>40.0</td>\n",
       "      <td>31.5</td>\n",
       "      <td>27.5</td>\n",
       "      <td>27.5</td>\n",
       "      <td>31.5</td>\n",
       "      <td>34.5</td>\n",
       "      <td>43.0</td>\n",
       "    </tr>\n",
       "    <tr>\n",
       "      <th>...</th>\n",
       "      <td>...</td>\n",
       "      <td>...</td>\n",
       "      <td>...</td>\n",
       "      <td>...</td>\n",
       "      <td>...</td>\n",
       "      <td>...</td>\n",
       "      <td>...</td>\n",
       "      <td>...</td>\n",
       "      <td>...</td>\n",
       "      <td>...</td>\n",
       "      <td>...</td>\n",
       "      <td>...</td>\n",
       "    </tr>\n",
       "    <tr>\n",
       "      <th>806</th>\n",
       "      <td>1.0</td>\n",
       "      <td>3.0</td>\n",
       "      <td>2.0</td>\n",
       "      <td>3.0</td>\n",
       "      <td>0.0</td>\n",
       "      <td>1.0</td>\n",
       "      <td>2.0</td>\n",
       "      <td>0.0</td>\n",
       "      <td>3.5</td>\n",
       "      <td>1.5</td>\n",
       "      <td>1.0</td>\n",
       "      <td>2.0</td>\n",
       "    </tr>\n",
       "    <tr>\n",
       "      <th>807</th>\n",
       "      <td>1.5</td>\n",
       "      <td>10.5</td>\n",
       "      <td>5.0</td>\n",
       "      <td>8.0</td>\n",
       "      <td>7.0</td>\n",
       "      <td>9.0</td>\n",
       "      <td>10.5</td>\n",
       "      <td>14.5</td>\n",
       "      <td>18.0</td>\n",
       "      <td>20.0</td>\n",
       "      <td>18.5</td>\n",
       "      <td>21.0</td>\n",
       "    </tr>\n",
       "    <tr>\n",
       "      <th>808</th>\n",
       "      <td>1.5</td>\n",
       "      <td>5.5</td>\n",
       "      <td>1.0</td>\n",
       "      <td>0.0</td>\n",
       "      <td>1.0</td>\n",
       "      <td>1.0</td>\n",
       "      <td>1.0</td>\n",
       "      <td>1.0</td>\n",
       "      <td>0.0</td>\n",
       "      <td>5.0</td>\n",
       "      <td>4.0</td>\n",
       "      <td>7.5</td>\n",
       "    </tr>\n",
       "    <tr>\n",
       "      <th>809</th>\n",
       "      <td>1.0</td>\n",
       "      <td>1.0</td>\n",
       "      <td>0.0</td>\n",
       "      <td>0.0</td>\n",
       "      <td>1.5</td>\n",
       "      <td>2.5</td>\n",
       "      <td>2.5</td>\n",
       "      <td>2.5</td>\n",
       "      <td>0.0</td>\n",
       "      <td>0.0</td>\n",
       "      <td>2.0</td>\n",
       "      <td>2.0</td>\n",
       "    </tr>\n",
       "    <tr>\n",
       "      <th>810</th>\n",
       "      <td>1.0</td>\n",
       "      <td>0.0</td>\n",
       "      <td>0.0</td>\n",
       "      <td>0.0</td>\n",
       "      <td>4.0</td>\n",
       "      <td>2.0</td>\n",
       "      <td>0.0</td>\n",
       "      <td>4.0</td>\n",
       "      <td>3.5</td>\n",
       "      <td>0.5</td>\n",
       "      <td>0.0</td>\n",
       "      <td>1.0</td>\n",
       "    </tr>\n",
       "  </tbody>\n",
       "</table>\n",
       "<p>811 rows × 12 columns</p>\n",
       "</div>"
      ],
      "text/plain": [
       "     January  February  March  April   May  June  July  August  September  \\\n",
       "0       47.5      59.5   59.5   40.5  34.5  44.5  38.0    42.0       51.5   \n",
       "1       21.5      16.5   14.0   20.0  28.0  20.0  21.5    18.5       18.0   \n",
       "2       40.0      45.0   36.5   42.5  42.5  45.5  36.5    35.5       40.5   \n",
       "3       42.5      45.5   30.0   40.0  37.5  37.5  26.0    42.0       36.0   \n",
       "4       40.0      42.0   48.0   46.0  41.0  40.0  31.5    27.5       27.5   \n",
       "..       ...       ...    ...    ...   ...   ...   ...     ...        ...   \n",
       "806      1.0       3.0    2.0    3.0   0.0   1.0   2.0     0.0        3.5   \n",
       "807      1.5      10.5    5.0    8.0   7.0   9.0  10.5    14.5       18.0   \n",
       "808      1.5       5.5    1.0    0.0   1.0   1.0   1.0     1.0        0.0   \n",
       "809      1.0       1.0    0.0    0.0   1.5   2.5   2.5     2.5        0.0   \n",
       "810      1.0       0.0    0.0    0.0   4.0   2.0   0.0     4.0        3.5   \n",
       "\n",
       "     October  November  December  \n",
       "0       30.5      35.0      32.5  \n",
       "1       15.0      11.5      11.5  \n",
       "2       23.5      38.0      34.5  \n",
       "3       33.0      36.0      37.0  \n",
       "4       31.5      34.5      43.0  \n",
       "..       ...       ...       ...  \n",
       "806      1.5       1.0       2.0  \n",
       "807     20.0      18.5      21.0  \n",
       "808      5.0       4.0       7.5  \n",
       "809      0.0       2.0       2.0  \n",
       "810      0.5       0.0       1.0  \n",
       "\n",
       "[811 rows x 12 columns]"
      ]
     },
     "execution_count": 4,
     "metadata": {},
     "output_type": "execute_result"
    }
   ],
   "source": [
    "X['January'] = X['W0'] + X['W1'] + X['W2'] + X['W3'] + X['W4']/2\n",
    "X['February'] = X['W5'] + X['W6'] + X['W7'] + X['W8'] + X['W4']/2\n",
    "X['March'] = X['W9'] + X['W10'] + X['W11'] + X['W12'] + X['W13']/2\n",
    "X['April'] = X['W14'] + X['W15'] + X['W15'] + X['W17'] + X['W13']/2\n",
    "X['May'] = X['W18'] + X['W19'] + X['W20'] + X['W21'] + X['W22']/2\n",
    "X['June'] = X['W23'] + X['W4'] + X['W25'] + X['W26'] + X['W22']/2\n",
    "X['July'] = X['W27'] + X['W28'] + X['W29'] + X['W30'] + X['W31']/2\n",
    "X['August'] = X['W32'] + X['W33'] + X['W34'] + X['W35'] + X['W31']/2\n",
    "X['September'] = X['W36'] + X['W37'] + X['W38'] + X['W39'] + X['W40']/2\n",
    "X['October'] = X['W41'] + X['W42'] + X['W42'] + X['W44']+ X['W40']/2\n",
    "X['November'] = X['W45'] + X['W46'] + X['W47'] + X['W48'] + X['W49']/2\n",
    "X['December'] = X['W49'] + X['W50'] + X['W51'] + X['W49'] + X['W0']/2\n",
    "\n",
    "dataMonth = X\n",
    "dataMonth = dataMonth.iloc[:, 52:105]\n",
    "dataMonth\n"
   ]
  },
  {
   "cell_type": "code",
   "execution_count": 5,
   "metadata": {},
   "outputs": [],
   "source": [
    "scaler = StandardScaler()\n",
    "scaled_data = pd.DataFrame(scaler.fit_transform(dataMonth))\n",
    "scaled_data.columns = dataMonth.columns"
   ]
  },
  {
   "cell_type": "code",
   "execution_count": 6,
   "metadata": {
    "scrolled": true
   },
   "outputs": [
    {
     "data": {
      "text/html": [
       "<div>\n",
       "<style scoped>\n",
       "    .dataframe tbody tr th:only-of-type {\n",
       "        vertical-align: middle;\n",
       "    }\n",
       "\n",
       "    .dataframe tbody tr th {\n",
       "        vertical-align: top;\n",
       "    }\n",
       "\n",
       "    .dataframe thead th {\n",
       "        text-align: right;\n",
       "    }\n",
       "</style>\n",
       "<table border=\"1\" class=\"dataframe\">\n",
       "  <thead>\n",
       "    <tr style=\"text-align: right;\">\n",
       "      <th></th>\n",
       "      <th>January</th>\n",
       "      <th>February</th>\n",
       "      <th>March</th>\n",
       "      <th>April</th>\n",
       "      <th>May</th>\n",
       "      <th>June</th>\n",
       "      <th>July</th>\n",
       "      <th>August</th>\n",
       "      <th>September</th>\n",
       "      <th>October</th>\n",
       "      <th>November</th>\n",
       "      <th>December</th>\n",
       "    </tr>\n",
       "  </thead>\n",
       "  <tbody>\n",
       "    <tr>\n",
       "      <th>0</th>\n",
       "      <td>0.099199</td>\n",
       "      <td>0.280313</td>\n",
       "      <td>0.269408</td>\n",
       "      <td>-0.071449</td>\n",
       "      <td>-0.166939</td>\n",
       "      <td>0.086224</td>\n",
       "      <td>0.105436</td>\n",
       "      <td>0.139883</td>\n",
       "      <td>0.315876</td>\n",
       "      <td>-0.143133</td>\n",
       "      <td>-0.082015</td>\n",
       "      <td>-0.162732</td>\n",
       "    </tr>\n",
       "    <tr>\n",
       "      <th>1</th>\n",
       "      <td>-0.363570</td>\n",
       "      <td>-0.465726</td>\n",
       "      <td>-0.512417</td>\n",
       "      <td>-0.416311</td>\n",
       "      <td>-0.279228</td>\n",
       "      <td>-0.408644</td>\n",
       "      <td>-0.267029</td>\n",
       "      <td>-0.362844</td>\n",
       "      <td>-0.384771</td>\n",
       "      <td>-0.457606</td>\n",
       "      <td>-0.555676</td>\n",
       "      <td>-0.618833</td>\n",
       "    </tr>\n",
       "    <tr>\n",
       "      <th>2</th>\n",
       "      <td>-0.034292</td>\n",
       "      <td>0.028742</td>\n",
       "      <td>-0.125800</td>\n",
       "      <td>-0.037804</td>\n",
       "      <td>-0.028735</td>\n",
       "      <td>0.106423</td>\n",
       "      <td>0.071576</td>\n",
       "      <td>0.000831</td>\n",
       "      <td>0.085813</td>\n",
       "      <td>-0.285153</td>\n",
       "      <td>-0.021548</td>\n",
       "      <td>-0.119294</td>\n",
       "    </tr>\n",
       "    <tr>\n",
       "      <th>3</th>\n",
       "      <td>0.010205</td>\n",
       "      <td>0.037416</td>\n",
       "      <td>-0.237489</td>\n",
       "      <td>-0.079860</td>\n",
       "      <td>-0.115112</td>\n",
       "      <td>-0.055167</td>\n",
       "      <td>-0.165447</td>\n",
       "      <td>0.139883</td>\n",
       "      <td>-0.008304</td>\n",
       "      <td>-0.092412</td>\n",
       "      <td>-0.061859</td>\n",
       "      <td>-0.064997</td>\n",
       "    </tr>\n",
       "    <tr>\n",
       "      <th>4</th>\n",
       "      <td>-0.034292</td>\n",
       "      <td>-0.023308</td>\n",
       "      <td>0.071804</td>\n",
       "      <td>0.021075</td>\n",
       "      <td>-0.054649</td>\n",
       "      <td>-0.004670</td>\n",
       "      <td>-0.041292</td>\n",
       "      <td>-0.170310</td>\n",
       "      <td>-0.186080</td>\n",
       "      <td>-0.122845</td>\n",
       "      <td>-0.092093</td>\n",
       "      <td>0.065318</td>\n",
       "    </tr>\n",
       "    <tr>\n",
       "      <th>...</th>\n",
       "      <td>...</td>\n",
       "      <td>...</td>\n",
       "      <td>...</td>\n",
       "      <td>...</td>\n",
       "      <td>...</td>\n",
       "      <td>...</td>\n",
       "      <td>...</td>\n",
       "      <td>...</td>\n",
       "      <td>...</td>\n",
       "      <td>...</td>\n",
       "      <td>...</td>\n",
       "      <td>...</td>\n",
       "    </tr>\n",
       "    <tr>\n",
       "      <th>806</th>\n",
       "      <td>-0.728446</td>\n",
       "      <td>-0.699948</td>\n",
       "      <td>-0.718613</td>\n",
       "      <td>-0.702293</td>\n",
       "      <td>-0.762939</td>\n",
       "      <td>-0.792420</td>\n",
       "      <td>-0.707215</td>\n",
       "      <td>-0.758607</td>\n",
       "      <td>-0.688037</td>\n",
       "      <td>-0.731502</td>\n",
       "      <td>-0.767312</td>\n",
       "      <td>-0.825164</td>\n",
       "    </tr>\n",
       "    <tr>\n",
       "      <th>807</th>\n",
       "      <td>-0.719547</td>\n",
       "      <td>-0.569825</td>\n",
       "      <td>-0.667064</td>\n",
       "      <td>-0.618181</td>\n",
       "      <td>-0.642011</td>\n",
       "      <td>-0.630830</td>\n",
       "      <td>-0.515339</td>\n",
       "      <td>-0.448414</td>\n",
       "      <td>-0.384771</td>\n",
       "      <td>-0.356163</td>\n",
       "      <td>-0.414585</td>\n",
       "      <td>-0.412502</td>\n",
       "    </tr>\n",
       "    <tr>\n",
       "      <th>808</th>\n",
       "      <td>-0.719547</td>\n",
       "      <td>-0.656574</td>\n",
       "      <td>-0.735796</td>\n",
       "      <td>-0.752761</td>\n",
       "      <td>-0.745664</td>\n",
       "      <td>-0.792420</td>\n",
       "      <td>-0.729788</td>\n",
       "      <td>-0.737215</td>\n",
       "      <td>-0.761239</td>\n",
       "      <td>-0.660492</td>\n",
       "      <td>-0.706844</td>\n",
       "      <td>-0.705709</td>\n",
       "    </tr>\n",
       "    <tr>\n",
       "      <th>809</th>\n",
       "      <td>-0.728446</td>\n",
       "      <td>-0.734648</td>\n",
       "      <td>-0.752979</td>\n",
       "      <td>-0.752761</td>\n",
       "      <td>-0.737026</td>\n",
       "      <td>-0.762122</td>\n",
       "      <td>-0.695928</td>\n",
       "      <td>-0.705126</td>\n",
       "      <td>-0.761239</td>\n",
       "      <td>-0.761935</td>\n",
       "      <td>-0.747156</td>\n",
       "      <td>-0.825164</td>\n",
       "    </tr>\n",
       "    <tr>\n",
       "      <th>810</th>\n",
       "      <td>-0.728446</td>\n",
       "      <td>-0.751997</td>\n",
       "      <td>-0.752979</td>\n",
       "      <td>-0.752761</td>\n",
       "      <td>-0.693838</td>\n",
       "      <td>-0.772222</td>\n",
       "      <td>-0.752362</td>\n",
       "      <td>-0.673037</td>\n",
       "      <td>-0.688037</td>\n",
       "      <td>-0.751791</td>\n",
       "      <td>-0.787468</td>\n",
       "      <td>-0.846883</td>\n",
       "    </tr>\n",
       "  </tbody>\n",
       "</table>\n",
       "<p>811 rows × 12 columns</p>\n",
       "</div>"
      ],
      "text/plain": [
       "      January  February     March     April       May      June      July  \\\n",
       "0    0.099199  0.280313  0.269408 -0.071449 -0.166939  0.086224  0.105436   \n",
       "1   -0.363570 -0.465726 -0.512417 -0.416311 -0.279228 -0.408644 -0.267029   \n",
       "2   -0.034292  0.028742 -0.125800 -0.037804 -0.028735  0.106423  0.071576   \n",
       "3    0.010205  0.037416 -0.237489 -0.079860 -0.115112 -0.055167 -0.165447   \n",
       "4   -0.034292 -0.023308  0.071804  0.021075 -0.054649 -0.004670 -0.041292   \n",
       "..        ...       ...       ...       ...       ...       ...       ...   \n",
       "806 -0.728446 -0.699948 -0.718613 -0.702293 -0.762939 -0.792420 -0.707215   \n",
       "807 -0.719547 -0.569825 -0.667064 -0.618181 -0.642011 -0.630830 -0.515339   \n",
       "808 -0.719547 -0.656574 -0.735796 -0.752761 -0.745664 -0.792420 -0.729788   \n",
       "809 -0.728446 -0.734648 -0.752979 -0.752761 -0.737026 -0.762122 -0.695928   \n",
       "810 -0.728446 -0.751997 -0.752979 -0.752761 -0.693838 -0.772222 -0.752362   \n",
       "\n",
       "       August  September   October  November  December  \n",
       "0    0.139883   0.315876 -0.143133 -0.082015 -0.162732  \n",
       "1   -0.362844  -0.384771 -0.457606 -0.555676 -0.618833  \n",
       "2    0.000831   0.085813 -0.285153 -0.021548 -0.119294  \n",
       "3    0.139883  -0.008304 -0.092412 -0.061859 -0.064997  \n",
       "4   -0.170310  -0.186080 -0.122845 -0.092093  0.065318  \n",
       "..        ...        ...       ...       ...       ...  \n",
       "806 -0.758607  -0.688037 -0.731502 -0.767312 -0.825164  \n",
       "807 -0.448414  -0.384771 -0.356163 -0.414585 -0.412502  \n",
       "808 -0.737215  -0.761239 -0.660492 -0.706844 -0.705709  \n",
       "809 -0.705126  -0.761239 -0.761935 -0.747156 -0.825164  \n",
       "810 -0.673037  -0.688037 -0.751791 -0.787468 -0.846883  \n",
       "\n",
       "[811 rows x 12 columns]"
      ]
     },
     "execution_count": 6,
     "metadata": {},
     "output_type": "execute_result"
    }
   ],
   "source": [
    "scaled_data"
   ]
  },
  {
   "cell_type": "markdown",
   "metadata": {},
   "source": [
    "# K-Means"
   ]
  },
  {
   "cell_type": "code",
   "execution_count": 7,
   "metadata": {},
   "outputs": [
    {
     "data": {
      "image/png": "[encoded data removed]",
      "text/plain": [
       "<Figure size 432x288 with 1 Axes>"
      ]
     },
     "metadata": {
      "needs_background": "light"
     },
     "output_type": "display_data"
    }
   ],
   "source": [
    "wcss = []\n",
    "for i in range(1, 9):\n",
    "    kmeans = KMeans(n_clusters = i, init = 'k-means++', random_state = 42)\n",
    "    kmeans.fit(scaled_data)\n",
    "    wcss.append(kmeans.inertia_)\n",
    "plt.plot(range(1, 9), wcss)\n",
    "plt.title('The Elbow Method')\n",
    "plt.xlabel('Number of clusters')\n",
    "plt.ylabel('WCSS')\n",
    "plt.show()"
   ]
  },
  {
   "cell_type": "code",
   "execution_count": 8,
   "metadata": {},
   "outputs": [],
   "source": [
    "kmeans = KMeans(n_clusters = 3, init = 'k-means++', random_state = 42)\n",
    "y_kmeans = kmeans.fit_predict(scaled_data)"
   ]
  },
  {
   "cell_type": "code",
   "execution_count": 9,
   "metadata": {},
   "outputs": [
    {
     "data": {
      "image/png": "[encoded data removed]",
      "text/plain": [
       "<Figure size 432x288 with 1 Axes>"
      ]
     },
     "metadata": {
      "needs_background": "light"
     },
     "output_type": "display_data"
    }
   ],
   "source": [
    "plt.scatter(scaled_data[y_kmeans == 0]['January'], scaled_data[y_kmeans == 0]['June'], s = 20, c = 'red', label = 'Cluster 1')\n",
    "plt.scatter(scaled_data[y_kmeans == 1]['January'], scaled_data[y_kmeans == 1]['June'], s = 20, c = 'green', label = 'Cluster 2')\n",
    "plt.scatter(scaled_data[y_kmeans == 2]['January'], scaled_data[y_kmeans == 2]['June'], s = 20, c = 'blue', label = 'Cluster 3')\n",
    "plt.scatter(kmeans.cluster_centers_[:, 0], kmeans.cluster_centers_[:, 1], s = 30, c = 'yellow', label = 'Centroids')\n",
    "plt.title('Clusters of sales')\n",
    "plt.xlabel('January')\n",
    "plt.ylabel('June')\n",
    "plt.legend()\n",
    "plt.show()"
   ]
  },
  {
   "cell_type": "code",
   "execution_count": 30,
   "metadata": {
    "scrolled": false
   },
   "outputs": [
    {
     "data": {
      "image/png": "[encoded data removed]",
      "text/plain": [
       "<Figure size 432x288 with 1 Axes>"
      ]
     },
     "metadata": {
      "needs_background": "light"
     },
     "output_type": "display_data"
    }
   ],
   "source": [
    "plt.scatter(scaled_data[y_kmeans == 0]['January'], scaled_data[y_kmeans == 0]['February'], s = 20, c = 'red', label = 'Cluster 1')\n",
    "plt.scatter(scaled_data[y_kmeans == 1]['January'], scaled_data[y_kmeans == 1]['February'], s = 20, c = 'green', label = 'Cluster 2')\n",
    "plt.scatter(scaled_data[y_kmeans == 2]['January'], scaled_data[y_kmeans == 2]['February'], s = 20, c = 'blue', label = 'Cluster 3')\n",
    "plt.scatter(kmeans.cluster_centers_[:, 0], kmeans.cluster_centers_[:, 1], s = 30, c = 'yellow', label = 'Centroids')\n",
    "plt.title('Clusters of sales')\n",
    "plt.xlabel('January')\n",
    "plt.ylabel('February')\n",
    "plt.legend()\n",
    "plt.show()"
   ]
  },
  {
   "cell_type": "code",
   "execution_count": 11,
   "metadata": {},
   "outputs": [],
   "source": [
    "kmeans = KMeans(n_clusters = 2, init = 'k-means++', random_state = 42)\n",
    "y_kmeans = kmeans.fit_predict(scaled_data)"
   ]
  },
  {
   "cell_type": "code",
   "execution_count": 12,
   "metadata": {},
   "outputs": [
    {
     "data": {
      "image/png": "[encoded data removed]",
      "text/plain": [
       "<Figure size 432x288 with 1 Axes>"
      ]
     },
     "metadata": {
      "needs_background": "light"
     },
     "output_type": "display_data"
    }
   ],
   "source": [
    "plt.scatter(scaled_data[y_kmeans == 0]['January'], scaled_data[y_kmeans == 0]['June'], s = 20, c = 'red', label = 'Cluster 1')\n",
    "plt.scatter(scaled_data[y_kmeans == 1]['January'], scaled_data[y_kmeans == 1]['June'], s = 20, c = 'green', label = 'Cluster 2')\n",
    "plt.scatter(kmeans.cluster_centers_[:, 0], kmeans.cluster_centers_[:, 1], s = 30, c = 'yellow', label = 'Centroids')\n",
    "plt.title('Clusters of sales')\n",
    "plt.xlabel('January')\n",
    "plt.ylabel('June')\n",
    "plt.legend()\n",
    "plt.show()"
   ]
  },
  {
   "cell_type": "code",
   "execution_count": 29,
   "metadata": {},
   "outputs": [
    {
     "data": {
      "image/png": "[encoded data removed]",
      "text/plain": [
       "<Figure size 432x288 with 1 Axes>"
      ]
     },
     "metadata": {
      "needs_background": "light"
     },
     "output_type": "display_data"
    }
   ],
   "source": [
    "plt.scatter(scaled_data[y_kmeans == 0]['January'], scaled_data[y_kmeans == 0]['February'], s = 20, c = 'red', label = 'Cluster 1')\n",
    "plt.scatter(scaled_data[y_kmeans == 1]['January'], scaled_data[y_kmeans == 1]['February'], s = 20, c = 'green', label = 'Cluster 2')\n",
    "plt.scatter(kmeans.cluster_centers_[:, 0], kmeans.cluster_centers_[:, 1], s = 30, c = 'yellow', label = 'Centroids')\n",
    "plt.title('Clusters of sales')\n",
    "plt.xlabel('January')\n",
    "plt.ylabel('February')\n",
    "plt.legend()\n",
    "plt.show()"
   ]
  },
  {
   "cell_type": "markdown",
   "metadata": {},
   "source": [
    "# DBSCAN"
   ]
  },
  {
   "cell_type": "code",
   "execution_count": 14,
   "metadata": {},
   "outputs": [
    {
     "data": {
      "text/plain": [
       "array([[ 0.0991994 ,  0.28031301,  0.26940821, ..., -0.14313332,\n",
       "        -0.08201493, -0.1627323 ],\n",
       "       [-0.3635702 , -0.46572649, -0.51241695, ..., -0.45760636,\n",
       "        -0.55567602, -0.61883264],\n",
       "       [-0.03429183,  0.02874155, -0.12580011, ..., -0.2851534 ,\n",
       "        -0.02154756, -0.11929417],\n",
       "       ...,\n",
       "       [-0.71954681, -0.6565738 , -0.73579556, ..., -0.66049218,\n",
       "        -0.70684446, -0.7057089 ],\n",
       "       [-0.72844623, -0.73464771, -0.75297853, ..., -0.7619351 ,\n",
       "        -0.74715604, -0.82516375],\n",
       "       [-0.72844623, -0.75199746, -0.75297853, ..., -0.7517908 ,\n",
       "        -0.78746762, -0.84688281]])"
      ]
     },
     "execution_count": 14,
     "metadata": {},
     "output_type": "execute_result"
    }
   ],
   "source": [
    "from sklearn.cluster import DBSCAN\n",
    "from sklearn import metrics\n",
    "from sklearn.metrics import silhouette_score, silhouette_samples\n",
    "Xdb = StandardScaler().fit_transform(dataMonth)\n",
    "Xdb"
   ]
  },
  {
   "cell_type": "code",
   "execution_count": 15,
   "metadata": {
    "scrolled": true
   },
   "outputs": [
    {
     "name": "stdout",
     "output_type": "stream",
     "text": [
      "eps values is: 0.1\n",
      "{0, -1}\n",
      "EPS: 0.1 Avgerage silhouette score:0.11885801712421708\n",
      "eps values is: 0.2\n",
      "{0, 1, 2, -1}\n",
      "EPS: 0.2 Avgerage silhouette score:0.08653765948358699\n",
      "eps values is: 0.3\n",
      "{0, -1}\n",
      "EPS: 0.3 Avgerage silhouette score:0.4924042574540038\n",
      "eps values is: 0.4\n",
      "{0, 1, -1}\n",
      "EPS: 0.4 Avgerage silhouette score:0.4345537087291954\n",
      "eps values is: 0.5\n",
      "{0, 1, 2, 3, 4, -1}\n",
      "EPS: 0.5 Avgerage silhouette score:0.497594186352034\n",
      "eps values is: 0.6\n",
      "{0, 1, -1}\n",
      "EPS: 0.6 Avgerage silhouette score:0.5283171995243758\n",
      "eps values is: 0.7\n",
      "{0, 1, 2, 3, -1}\n",
      "EPS: 0.7 Avgerage silhouette score:0.46285762140109304\n",
      "eps values is: 0.8\n",
      "{0, 1, -1}\n",
      "EPS: 0.8 Avgerage silhouette score:0.6653293944289221\n",
      "eps values is: 0.9\n",
      "{0, 1, 2, -1}\n",
      "EPS: 0.9 Avgerage silhouette score:0.6681664082644467\n",
      "eps values is: 1\n",
      "{0, 1, -1}\n",
      "EPS: 1 Avgerage silhouette score:0.7072482726824014\n"
     ]
    }
   ],
   "source": [
    "# To determine eps\n",
    "range_eps=[0.1, 0.2, 0.3, 0.4, 0.5, 0.6, 0.7, 0.8, 0.9,1]\n",
    "for i in range_eps:\n",
    "    print (\"eps values is: \" + str(i))\n",
    "    db = DBSCAN(eps=i, min_samples=4).fit(Xdb)\n",
    "    core_samples_mask = np.zeros_like(db.labels_, dtype=bool)\n",
    "    core_samples_mask[db.core_sample_indices_] = True\n",
    "    labels = db.labels_\n",
    "    print(set(labels))\n",
    "    silhouette_avg= silhouette_score(Xdb,labels)\n",
    "    print(\"EPS: \"+str(i)+\" Avgerage silhouette score:\"+str(silhouette_avg))"
   ]
  },
  {
   "cell_type": "code",
   "execution_count": 16,
   "metadata": {},
   "outputs": [
    {
     "name": "stdout",
     "output_type": "stream",
     "text": [
      "min_sample values is: 1\n",
      "{0, 1, 2, 3, 4, 5, 6, 7, 8, 9, 10, 11, 12, 13, 14, 15, 16}\n",
      "min_sample: 1 Total no of clusters:17\n",
      "min_sample values is: 2\n",
      "{0, 1, 2, 3}\n",
      "min_sample: 2 Total no of clusters:4\n",
      "min_sample values is: 3\n",
      "{0, 1}\n",
      "min_sample: 3 Total no of clusters:2\n",
      "min_sample values is: 4\n",
      "{0, 1}\n",
      "min_sample: 4 Total no of clusters:2\n",
      "min_sample values is: 5\n",
      "{0, 1}\n",
      "min_sample: 5 Total no of clusters:2\n",
      "min_sample values is: 6\n",
      "{0, 1}\n",
      "min_sample: 6 Total no of clusters:2\n",
      "min_sample values is: 7\n",
      "{0, 1}\n",
      "min_sample: 7 Total no of clusters:2\n",
      "min_sample values is: 8\n",
      "{0, 1}\n",
      "min_sample: 8 Total no of clusters:2\n",
      "min_sample values is: 9\n",
      "{0, 1}\n",
      "min_sample: 9 Total no of clusters:2\n",
      "min_sample values is: 10\n",
      "{0, 1}\n",
      "min_sample: 10 Total no of clusters:2\n"
     ]
    }
   ],
   "source": [
    "# To determine number of minimum sample\n",
    "min_samples=[1,2,3,4,5,6,7,8,9,10]\n",
    "for i in min_samples:\n",
    "    print (\"min_sample values is: \" + str(i))\n",
    "    db = DBSCAN(eps=1, min_samples=i).fit(Xdb)\n",
    "    core_samples_mask = np.zeros_like(db.labels_, dtype=bool)\n",
    "    core_samples_mask[db.core_sample_indices_] = True\n",
    "    #ignore the label '-1' as its for the outliers \n",
    "    labels = db.labels_\n",
    "    labels=set([label for label in db.labels_ if label >=0])\n",
    "    print(set(labels))\n",
    "\n",
    "    print (\"min_sample: \"+str(i)+\" Total no of clusters:\"+str(len(set(labels))))"
   ]
  },
  {
   "cell_type": "code",
   "execution_count": 17,
   "metadata": {},
   "outputs": [],
   "source": [
    "# DBSCAN implementation\n",
    "db = DBSCAN(eps=1, min_samples=4).fit(Xdb)\n",
    "core_samples_mask = np.zeros_like(db.labels_, dtype=bool)\n",
    "core_samples_mask[db.core_sample_indices_] = True\n",
    "labels = db.labels_"
   ]
  },
  {
   "cell_type": "code",
   "execution_count": 18,
   "metadata": {},
   "outputs": [
    {
     "name": "stdout",
     "output_type": "stream",
     "text": [
      "Estimated number of clusters: 2\n",
      "Estimated number of noise points: 17\n",
      "Silhouette Coefficient: 0.707\n"
     ]
    }
   ],
   "source": [
    "# Number of clusters in labels, ignoring noise if present.\n",
    "n_clusters_ = len(set(labels)) - (1 if -1 in labels else 0)\n",
    "n_noise_ = list(labels).count(-1)\n",
    "\n",
    "print('Estimated number of clusters: %d' % n_clusters_)\n",
    "print('Estimated number of noise points: %d' % n_noise_)\n",
    "#print(\"Homogeneity: %0.3f\" % metrics.homogeneity_score(labels_true, labels))\n",
    "#print(\"Completeness: %0.3f\" % metrics.completeness_score(labels_true, labels))\n",
    "#print(\"V-measure: %0.3f\" % metrics.v_measure_score(labels_true, labels))\n",
    "#print(\"Adjusted Rand Index: %0.3f\"\n",
    "#      % metrics.adjusted_rand_score(labels_true, labels))\n",
    "#print(\"Adjusted Mutual Information: %0.3f\"\n",
    "#      % metrics.adjusted_mutual_info_score(labels_true, labels))\n",
    "print(\"Silhouette Coefficient: %0.3f\"\n",
    "      % metrics.silhouette_score(Xdb, labels))"
   ]
  },
  {
   "cell_type": "code",
   "execution_count": 19,
   "metadata": {},
   "outputs": [
    {
     "data": {
      "image/png": "[encoded data removed]",
      "text/plain": [
       "<Figure size 432x288 with 1 Axes>"
      ]
     },
     "metadata": {
      "needs_background": "light"
     },
     "output_type": "display_data"
    }
   ],
   "source": [
    "# Visulization\n",
    "import matplotlib.pyplot as plt\n",
    "\n",
    "# Black removed and is used for noise instead.\n",
    "unique_labels = set(labels)\n",
    "colors = [plt.cm.Spectral(each)\n",
    "          for each in np.linspace(0, 1, len(unique_labels))]\n",
    "for k, col in zip(unique_labels, colors):\n",
    "    if k == -1:\n",
    "        # Black used for noise.\n",
    "        col = [0, 0, 0, 1]\n",
    "\n",
    "    class_member_mask = (labels == k)\n",
    "\n",
    "    xy = Xdb[class_member_mask & core_samples_mask]\n",
    "    plt.plot(xy[:, 0], xy[:, 1], 'o', markerfacecolor=tuple(col),\n",
    "             markeredgecolor='k', markersize=14)\n",
    "\n",
    "    xy = Xdb[class_member_mask & ~core_samples_mask]\n",
    "    plt.plot(xy[:, 0], xy[:, 1], 'o', markerfacecolor=tuple(col),\n",
    "             markeredgecolor='k', markersize=1)\n",
    "\n",
    "plt.title('Estimated number of clusters: %d' % n_clusters_)\n",
    "plt.show()"
   ]
  },
  {
   "cell_type": "markdown",
   "metadata": {},
   "source": [
    "# AGNES"
   ]
  },
  {
   "cell_type": "code",
   "execution_count": 20,
   "metadata": {},
   "outputs": [],
   "source": [
    "import scipy.cluster.hierarchy as shc\n",
    "from sklearn.cluster import AgglomerativeClustering"
   ]
  },
  {
   "cell_type": "markdown",
   "metadata": {},
   "source": [
    "# for month "
   ]
  },
  {
   "cell_type": "code",
   "execution_count": 21,
   "metadata": {},
   "outputs": [
    {
     "data": {
      "image/png": "[encoded data removed]",
      "text/plain": [
       "<Figure size 1080x1440 with 1 Axes>"
      ]
     },
     "metadata": {
      "needs_background": "light"
     },
     "output_type": "display_data"
    }
   ],
   "source": [
    "data = StandardScaler().fit_transform(dataMonth)\n",
    "\n",
    "plt.figure(figsize=(15, 20))\n",
    "plt.title(\"Customer Dendograms\")\n",
    "dend = shc.dendrogram(shc.linkage(data, method='ward'))"
   ]
  },
  {
   "cell_type": "code",
   "execution_count": 43,
   "metadata": {},
   "outputs": [
    {
     "data": {
      "text/plain": [
       "array([0, 0, 0, 0, 0, 0, 0, 0, 0, 0, 0, 0, 0, 0, 1, 1, 1, 1, 1, 0, 0, 0,\n",
       "       0, 1, 1, 0, 1, 1, 0, 1, 0, 0, 0, 1, 1, 1, 1, 1, 1, 1, 1, 1, 1, 1,\n",
       "       1, 1, 1, 1, 1, 0, 0, 1, 0, 1, 1, 1, 1, 1, 0, 1, 1, 0, 1, 1, 0, 1,\n",
       "       1, 0, 1, 1, 0, 1, 1, 0, 1, 1, 0, 1, 1, 1, 0, 0, 1, 1, 1, 1, 1, 1,\n",
       "       1, 1, 0, 1, 0, 0, 0, 1, 1, 0, 0, 0, 1, 1, 0, 0, 0, 0, 0, 0, 0, 0,\n",
       "       0, 1, 1, 0, 0, 0, 0, 0, 1, 1, 0, 0, 0, 0, 0, 0, 0, 1, 1, 1, 1, 1,\n",
       "       1, 1, 1, 1, 1, 1, 1, 1, 1, 1, 1, 0, 0, 0, 0, 0, 0, 0, 0, 0, 0, 0,\n",
       "       0, 0, 0, 0, 0, 0, 0, 0, 0, 0, 0, 0, 1, 1, 1, 1, 0, 1, 1, 1, 1, 1,\n",
       "       1, 1, 1, 1, 1, 1, 1, 1, 1, 1, 1, 1, 1, 1, 1, 1, 1, 1, 0, 1, 0, 0,\n",
       "       0, 0, 0, 0, 0, 0, 0, 0, 0, 1, 0, 0, 0, 0, 0, 0, 0, 0, 0, 0, 0, 0,\n",
       "       0, 0, 0, 0, 0, 0, 0, 0, 0, 0, 0, 0, 0, 0, 0, 0, 0, 0, 0, 0, 0, 0,\n",
       "       0, 0, 0, 0, 0, 0, 0, 0, 0, 0, 0, 0, 0, 0, 0, 0, 0, 0, 0, 1, 0, 0,\n",
       "       0, 0, 0, 0, 0, 0, 0, 0, 0, 0, 0, 0, 0, 0, 0, 0, 0, 0, 0, 0, 0, 0,\n",
       "       0, 0, 0, 0, 0, 0, 0, 0, 0, 0, 0, 0, 0, 0, 0, 0, 0, 0, 0, 0, 0, 0,\n",
       "       0, 0, 0, 0, 0, 0, 0, 0, 0, 0, 0, 0, 0, 0, 0, 0, 0, 0, 0, 0, 0, 0,\n",
       "       0, 0, 0, 0, 0, 0, 0, 0, 0, 0, 0, 0, 0, 0, 0, 0, 0, 0, 0, 0, 0, 0,\n",
       "       0, 0, 0, 0, 0, 0, 0, 0, 0, 0, 0, 0, 0, 0, 0, 0, 0, 0, 0, 0, 0, 0,\n",
       "       0, 0, 0, 0, 0, 0, 0, 0, 0, 0, 0, 0, 0, 0, 0, 0, 0, 0, 0, 0, 0, 0,\n",
       "       0, 0, 0, 0, 0, 0, 0, 0, 0, 0, 1, 0, 0, 0, 0, 0, 0, 0, 0, 0, 0, 0,\n",
       "       0, 0, 0, 0, 0, 0, 0, 0, 0, 0, 0, 0, 0, 0, 0, 0, 0, 0, 0, 0, 0, 0,\n",
       "       0, 0, 0, 0, 0, 0, 0, 0, 0, 0, 0, 0, 0, 0, 0, 0, 0, 0, 0, 0, 0, 0,\n",
       "       0, 0, 0, 0, 0, 0, 0, 0, 0, 0, 0, 0, 0, 0, 0, 0, 0, 0, 0, 0, 0, 0,\n",
       "       0, 0, 0, 0, 0, 0, 0, 0, 0, 0, 0, 0, 0, 0, 0, 0, 0, 0, 0, 0, 0, 0,\n",
       "       0, 0, 0, 0, 0, 0, 0, 0, 0, 0, 0, 0, 0, 0, 0, 0, 0, 0, 0, 0, 0, 0,\n",
       "       0, 0, 0, 0, 0, 0, 0, 0, 0, 0, 0, 0, 0, 0, 0, 0, 0, 1, 1, 0, 0, 0,\n",
       "       0, 0, 0, 0, 0, 0, 0, 0, 0, 0, 0, 0, 0, 0, 0, 0, 0, 0, 0, 0, 0, 0,\n",
       "       0, 0, 0, 0, 0, 0, 0, 0, 0, 0, 0, 0, 0, 0, 0, 0, 0, 0, 0, 0, 0, 0,\n",
       "       0, 0, 0, 0, 0, 0, 0, 0, 0, 0, 0, 0, 0, 0, 0, 0, 0, 0, 0, 0, 1, 1,\n",
       "       1, 1, 1, 1, 1, 0, 0, 0, 0, 0, 0, 0, 0, 0, 0, 0, 0, 0, 0, 0, 0, 0,\n",
       "       0, 0, 0, 0, 0, 0, 0, 0, 0, 0, 0, 0, 0, 0, 0, 0, 0, 0, 0, 0, 0, 0,\n",
       "       0, 0, 0, 0, 0, 0, 0, 0, 0, 0, 0, 0, 0, 0, 0, 0, 0, 0, 0, 0, 0, 0,\n",
       "       0, 0, 0, 0, 0, 0, 0, 0, 0, 0, 0, 0, 0, 0, 0, 0, 0, 0, 0, 0, 0, 0,\n",
       "       0, 0, 0, 0, 0, 0, 0, 0, 0, 0, 0, 0, 0, 0, 0, 0, 0, 0, 0, 0, 0, 0,\n",
       "       0, 0, 0, 0, 0, 0, 0, 0, 0, 0, 0, 0, 0, 0, 0, 0, 0, 0, 0, 0, 0, 0,\n",
       "       0, 0, 0, 0, 0, 0, 0, 0, 0, 0, 0, 0, 0, 0, 0, 0, 0, 0, 0, 0, 0, 0,\n",
       "       0, 0, 0, 0, 0, 0, 0, 0, 0, 0, 0, 0, 0, 0, 0, 0, 0, 0, 0, 0, 0, 0,\n",
       "       0, 0, 0, 0, 0, 0, 0, 0, 0, 0, 0, 0, 0, 0, 0, 0, 0, 0, 0])"
      ]
     },
     "execution_count": 43,
     "metadata": {},
     "output_type": "execute_result"
    }
   ],
   "source": [
    "cluster = AgglomerativeClustering(n_clusters=2, affinity='euclidean', linkage='ward')\n",
    "y_cluster=cluster.fit_predict(scaled_data)\n",
    "cluster.labels_"
   ]
  },
  {
   "cell_type": "code",
   "execution_count": 31,
   "metadata": {},
   "outputs": [
    {
     "data": {
      "image/png": "[encoded data removed]",
      "text/plain": [
       "<Figure size 432x288 with 1 Axes>"
      ]
     },
     "metadata": {
      "needs_background": "light"
     },
     "output_type": "display_data"
    }
   ],
   "source": [
    "plt.scatter(scaled_data[y_cluster == 0]['January'], scaled_data[y_cluster == 0]['February'], s = 20, c = 'red', label = 'Cluster 1')\n",
    "plt.scatter(scaled_data[y_cluster == 1]['January'], scaled_data[y_cluster == 1]['February'], s = 20, c = 'green', label = 'Cluster 2')\n",
    "plt.title('Monthly clusters of sales')\n",
    "plt.xlabel('January')\n",
    "plt.ylabel('February')\n",
    "plt.legend()\n",
    "plt.show()"
   ]
  },
  {
   "cell_type": "markdown",
   "metadata": {},
   "source": [
    "# for week"
   ]
  },
  {
   "cell_type": "code",
   "execution_count": 53,
   "metadata": {},
   "outputs": [
    {
     "data": {
      "image/png": "[encoded data removed]",
      "text/plain": [
       "<Figure size 720x720 with 1 Axes>"
      ]
     },
     "metadata": {
      "needs_background": "light"
     },
     "output_type": "display_data"
    }
   ],
   "source": [
    "data = StandardScaler().fit_transform(X)\n",
    "\n",
    "plt.figure(figsize=(10, 10))\n",
    "plt.title(\"Customer Dendograms\")\n",
    "dend = shc.dendrogram(shc.linkage(data, method='ward'))"
   ]
  },
  {
   "cell_type": "code",
   "execution_count": 45,
   "metadata": {},
   "outputs": [],
   "source": [
    "scaler = StandardScaler()\n",
    "scaled_data_weekly = pd.DataFrame(scaler.fit_transform(X))\n",
    "scaled_data_weekly.columns = X.columns"
   ]
  },
  {
   "cell_type": "code",
   "execution_count": 46,
   "metadata": {},
   "outputs": [
    {
     "data": {
      "text/plain": [
       "array([0, 0, 0, 0, 0, 0, 0, 0, 0, 0, 0, 0, 0, 0, 1, 1, 1, 1, 1, 0, 0, 0,\n",
       "       0, 1, 1, 0, 1, 1, 0, 1, 0, 0, 0, 1, 1, 1, 1, 1, 1, 1, 1, 1, 1, 1,\n",
       "       1, 1, 1, 1, 1, 0, 0, 1, 0, 1, 1, 1, 1, 1, 0, 1, 1, 0, 1, 1, 0, 1,\n",
       "       1, 0, 1, 1, 0, 1, 1, 0, 1, 1, 0, 1, 1, 1, 0, 0, 1, 1, 1, 1, 1, 1,\n",
       "       1, 1, 0, 1, 0, 0, 0, 1, 1, 0, 0, 0, 1, 1, 0, 0, 0, 0, 0, 0, 0, 0,\n",
       "       0, 1, 1, 0, 0, 0, 0, 0, 1, 1, 0, 0, 0, 0, 0, 0, 0, 1, 1, 1, 1, 1,\n",
       "       1, 1, 1, 1, 1, 1, 1, 1, 1, 1, 1, 0, 0, 0, 0, 0, 0, 0, 0, 0, 0, 0,\n",
       "       0, 0, 0, 0, 0, 0, 0, 0, 0, 0, 0, 0, 1, 1, 1, 1, 0, 1, 1, 1, 1, 1,\n",
       "       1, 1, 1, 1, 1, 1, 1, 1, 1, 1, 1, 1, 1, 1, 1, 1, 1, 1, 0, 1, 0, 0,\n",
       "       0, 0, 0, 0, 0, 0, 0, 0, 0, 1, 0, 0, 0, 0, 0, 0, 0, 0, 0, 0, 0, 0,\n",
       "       0, 0, 0, 0, 0, 0, 0, 0, 0, 0, 0, 0, 0, 0, 0, 0, 0, 0, 0, 0, 0, 0,\n",
       "       0, 0, 0, 0, 0, 0, 0, 0, 0, 0, 0, 0, 0, 0, 0, 0, 0, 0, 0, 1, 0, 0,\n",
       "       0, 0, 0, 0, 0, 0, 0, 0, 0, 0, 0, 0, 0, 0, 0, 0, 0, 0, 0, 0, 0, 0,\n",
       "       0, 0, 0, 0, 0, 0, 0, 0, 0, 0, 0, 0, 0, 0, 0, 0, 0, 0, 0, 0, 0, 0,\n",
       "       0, 0, 0, 0, 0, 0, 0, 0, 0, 0, 0, 0, 0, 0, 0, 0, 0, 0, 0, 0, 0, 0,\n",
       "       0, 0, 0, 0, 0, 0, 0, 0, 0, 0, 0, 0, 0, 0, 0, 0, 0, 0, 0, 0, 0, 0,\n",
       "       0, 0, 0, 0, 0, 0, 0, 0, 0, 0, 0, 0, 0, 0, 0, 0, 0, 0, 0, 0, 0, 0,\n",
       "       0, 0, 0, 0, 0, 0, 0, 0, 0, 0, 0, 0, 0, 0, 0, 0, 0, 0, 0, 0, 0, 0,\n",
       "       0, 0, 0, 0, 0, 0, 0, 0, 0, 0, 1, 0, 0, 0, 0, 0, 0, 0, 0, 0, 0, 0,\n",
       "       0, 0, 0, 0, 0, 0, 0, 0, 0, 0, 0, 0, 0, 0, 0, 0, 0, 0, 0, 0, 0, 0,\n",
       "       0, 0, 0, 0, 0, 0, 0, 0, 0, 0, 0, 0, 0, 0, 0, 0, 0, 0, 0, 0, 0, 0,\n",
       "       0, 0, 0, 0, 0, 0, 0, 0, 0, 0, 0, 0, 0, 0, 0, 0, 0, 0, 0, 0, 0, 0,\n",
       "       0, 0, 0, 0, 0, 0, 0, 0, 0, 0, 0, 0, 0, 0, 0, 0, 0, 0, 0, 0, 0, 0,\n",
       "       0, 0, 0, 0, 0, 0, 0, 0, 0, 0, 0, 0, 0, 0, 0, 0, 0, 0, 0, 0, 0, 0,\n",
       "       0, 0, 0, 0, 0, 0, 0, 0, 0, 0, 0, 0, 0, 0, 0, 0, 0, 1, 1, 0, 0, 0,\n",
       "       0, 0, 0, 0, 0, 0, 0, 0, 0, 0, 0, 0, 0, 0, 0, 0, 0, 0, 0, 0, 0, 0,\n",
       "       0, 0, 0, 0, 0, 0, 0, 0, 0, 0, 0, 0, 0, 0, 0, 0, 0, 0, 0, 0, 0, 0,\n",
       "       0, 0, 0, 0, 0, 0, 0, 0, 0, 0, 0, 0, 0, 0, 0, 0, 0, 0, 0, 0, 1, 1,\n",
       "       1, 1, 1, 1, 1, 0, 0, 0, 0, 0, 0, 0, 0, 0, 0, 0, 0, 0, 0, 0, 0, 0,\n",
       "       0, 0, 0, 0, 0, 0, 0, 0, 0, 0, 0, 0, 0, 0, 0, 0, 0, 0, 0, 0, 0, 0,\n",
       "       0, 0, 0, 0, 0, 0, 0, 0, 0, 0, 0, 0, 0, 0, 0, 0, 0, 0, 0, 0, 0, 0,\n",
       "       0, 0, 0, 0, 0, 0, 0, 0, 0, 0, 0, 0, 0, 0, 0, 0, 0, 0, 0, 0, 0, 0,\n",
       "       0, 0, 0, 0, 0, 0, 0, 0, 0, 0, 0, 0, 0, 0, 0, 0, 0, 0, 0, 0, 0, 0,\n",
       "       0, 0, 0, 0, 0, 0, 0, 0, 0, 0, 0, 0, 0, 0, 0, 0, 0, 0, 0, 0, 0, 0,\n",
       "       0, 0, 0, 0, 0, 0, 0, 0, 0, 0, 0, 0, 0, 0, 0, 0, 0, 0, 0, 0, 0, 0,\n",
       "       0, 0, 0, 0, 0, 0, 0, 0, 0, 0, 0, 0, 0, 0, 0, 0, 0, 0, 0, 0, 0, 0,\n",
       "       0, 0, 0, 0, 0, 0, 0, 0, 0, 0, 0, 0, 0, 0, 0, 0, 0, 0, 0])"
      ]
     },
     "execution_count": 46,
     "metadata": {},
     "output_type": "execute_result"
    }
   ],
   "source": [
    "cluster = AgglomerativeClustering(n_clusters=2, affinity='euclidean', linkage='ward')\n",
    "y_cluster = cluster.fit_predict(scaled_data_weekly)\n",
    "cluster.labels_"
   ]
  },
  {
   "cell_type": "code",
   "execution_count": 55,
   "metadata": {},
   "outputs": [
    {
     "data": {
      "image/png": "[encoded data removed]",
      "text/plain": [
       "<Figure size 432x288 with 1 Axes>"
      ]
     },
     "metadata": {
      "needs_background": "light"
     },
     "output_type": "display_data"
    }
   ],
   "source": [
    "plt.scatter(scaled_data_weekly[y_cluster == 0]['W0'], scaled_data_weekly[y_cluster == 0]['W27'], s = 20, c = 'red', label = 'Cluster 1')\n",
    "plt.scatter(scaled_data_weekly[y_cluster == 1]['W0'], scaled_data_weekly[y_cluster == 1]['W27'], s = 20, c = 'green', label = 'Cluster 2')\n",
    "plt.title('Weekly clusters of sales')\n",
    "plt.xlabel('week 1')\n",
    "plt.ylabel('week 28')\n",
    "plt.legend()\n",
    "plt.show()"
   ]
  },
  {
   "cell_type": "code",
   "execution_count": null,
   "metadata": {},
   "outputs": [],
   "source": []
  }
 ],
 "metadata": {
  "kernelspec": {
   "display_name": "Python 3",
   "language": "python",
   "name": "python3"
  },
  "language_info": {
   "codemirror_mode": {
    "name": "ipython",
    "version": 3
   },
   "file_extension": ".py",
   "mimetype": "text/x-python",
   "name": "python",
   "nbconvert_exporter": "python",
   "pygments_lexer": "ipython3",
   "version": "3.8.5"
  }
 },
 "nbformat": 4,
 "nbformat_minor": 2
}
